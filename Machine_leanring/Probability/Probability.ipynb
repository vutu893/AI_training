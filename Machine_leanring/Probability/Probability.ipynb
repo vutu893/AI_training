{
 "cells": [
  {
   "cell_type": "markdown",
   "id": "a82d749b-d5ba-4236-87dc-4333415ec388",
   "metadata": {},
   "source": [
    "# <center> PROBABILITY IN MACHINE LEARNING</center>"
   ]
  },
  {
   "cell_type": "code",
   "execution_count": null,
   "id": "60519cec-b982-433b-b5ca-a247241402fe",
   "metadata": {},
   "outputs": [],
   "source": []
  }
 ],
 "metadata": {
  "kernelspec": {
   "display_name": "Python 3 (ipykernel)",
   "language": "python",
   "name": "python3"
  },
  "language_info": {
   "codemirror_mode": {
    "name": "ipython",
    "version": 3
   },
   "file_extension": ".py",
   "mimetype": "text/x-python",
   "name": "python",
   "nbconvert_exporter": "python",
   "pygments_lexer": "ipython3",
   "version": "3.11.5"
  }
 },
 "nbformat": 4,
 "nbformat_minor": 5
}
