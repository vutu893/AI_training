{
 "cells": [
  {
   "cell_type": "markdown",
   "id": "a4277ae4-592b-4e13-bab5-36d22d7a37ba",
   "metadata": {},
   "source": [
    "\n",
    "# <center>Learn Numpy in Python </center>\n"
   ]
  },
  {
   "cell_type": "markdown",
   "id": "72c73d72-18c8-40cb-a771-f4e1d34e3666",
   "metadata": {},
   "source": [
    "\n",
    "## Introduction\n",
    "\n",
    ">Numpy is a library in Python.<br>\n",
    ">It process array.\n"
   ]
  },
  {
   "cell_type": "markdown",
   "id": "346844eb-b935-4c7d-83cd-b1a6ebf2eaa3",
   "metadata": {},
   "source": [
    "\n",
    "## Concepts\n"
   ]
  },
  {
   "cell_type": "markdown",
   "id": "fad07a6c-18cc-4e3d-93e0-4e9d69fd743c",
   "metadata": {},
   "source": [
    "\n",
    "## Import Numpy:\n",
    "\n",
    "> import numpy\n",
    ">\n",
    "> Example:\n",
    ">\n",
    "> import numpy\n",
    ">\n",
    "> arr = numpy.array([1, 2, 3, 4, 5])\n",
    ">\n",
    "> print(arr)\n",
    "\n"
   ]
  },
  {
   "cell_type": "code",
   "execution_count": 4,
   "id": "31cffd6d-be3a-4918-b06e-f62bd6c3a3f8",
   "metadata": {
    "tags": []
   },
   "outputs": [
    {
     "name": "stdout",
     "output_type": "stream",
     "text": [
      "[1 2 3 4 5]\n",
      "<class 'numpy.ndarray'>\n"
     ]
    }
   ],
   "source": [
    "import numpy\n",
    "arr = numpy.array([1, 2, 3, 4, 5])\n",
    "print(arr)\n",
    "print(type(arr))\n"
   ]
  },
  {
   "cell_type": "markdown",
   "id": "ff56b66e-ea1d-4637-9e22-52d00bef13f4",
   "metadata": {},
   "source": [
    "> or as np\n",
    ">\n",
    "> import numpy as np\n",
    ">\n",
    "> check version of numpy"
   ]
  },
  {
   "cell_type": "code",
   "execution_count": 5,
   "id": "4dc915a1-ec97-4bac-86e9-cf7a5fb524ce",
   "metadata": {
    "tags": []
   },
   "outputs": [
    {
     "name": "stdout",
     "output_type": "stream",
     "text": [
      "1.24.3\n"
     ]
    }
   ],
   "source": [
    "print(numpy.__version__)"
   ]
  },
  {
   "cell_type": "markdown",
   "id": "7116699c-6d58-465d-8831-fd5f47118acc",
   "metadata": {},
   "source": [
    "\n",
    "## CREATING A ARRAY IN NUMPY\n"
   ]
  },
  {
   "cell_type": "code",
   "execution_count": 2,
   "id": "cd447a56-50c2-4fad-a3b0-9d6384e33c65",
   "metadata": {
    "tags": []
   },
   "outputs": [],
   "source": [
    "import numpy as np\n",
    "arr = np.array([1, 2])"
   ]
  },
  {
   "cell_type": "markdown",
   "id": "e132b119-180b-4130-a49d-0f27a5cec689",
   "metadata": {},
   "source": [
    "0-D arrays: value is an value in array"
   ]
  },
  {
   "cell_type": "code",
   "execution_count": 8,
   "id": "5d67a579-87c1-4f13-a592-1d6f59ca0ca4",
   "metadata": {
    "tags": []
   },
   "outputs": [
    {
     "name": "stdout",
     "output_type": "stream",
     "text": [
      "42\n"
     ]
    }
   ],
   "source": [
    "arr = np.array(42)\n",
    "print(arr)"
   ]
  },
  {
   "cell_type": "markdown",
   "id": "89a4da5b-14fc-466d-aeb8-ad5763d7572f",
   "metadata": {},
   "source": [
    "1-D arrays:"
   ]
  },
  {
   "cell_type": "code",
   "execution_count": 9,
   "id": "8bcb27e3-f826-42a1-94a7-323645ad2497",
   "metadata": {
    "tags": []
   },
   "outputs": [
    {
     "name": "stdout",
     "output_type": "stream",
     "text": [
      "[1 2 3 4 5]\n"
     ]
    }
   ],
   "source": [
    "arr = np.array([1, 2, 3, 4, 5])\n",
    "print(arr)"
   ]
  },
  {
   "cell_type": "markdown",
   "id": "8dc489fe-864c-42f8-869e-774bf4aef52e",
   "metadata": {},
   "source": [
    "2-D arrays:"
   ]
  },
  {
   "cell_type": "code",
   "execution_count": 11,
   "id": "37d6183d-4972-42ca-964b-b5502e650744",
   "metadata": {
    "tags": []
   },
   "outputs": [
    {
     "name": "stdout",
     "output_type": "stream",
     "text": [
      "[[1 2 3]\n",
      " [1 2 5]]\n"
     ]
    }
   ],
   "source": [
    "arr = np.array([[1, 2, 3], [1, 2, 5]])\n",
    "print(arr)"
   ]
  },
  {
   "cell_type": "markdown",
   "id": "2c0f9182-3566-40ae-9457-47cb2e884996",
   "metadata": {},
   "source": [
    "use **ndim** check number n-D:"
   ]
  },
  {
   "cell_type": "code",
   "execution_count": 12,
   "id": "593d0855-a36b-4492-a7cc-7ed7b8d6f4f8",
   "metadata": {
    "tags": []
   },
   "outputs": [
    {
     "name": "stdout",
     "output_type": "stream",
     "text": [
      "0\n",
      "1\n",
      "2\n",
      "3\n"
     ]
    }
   ],
   "source": [
    "a = np.array(42)\n",
    "b = np.array([1, 2, 3, 4, 5])\n",
    "c = np.array([[1, 2, 3], [4, 5, 6]])\n",
    "d = np.array([[[1, 2, 3], [4, 5, 6]], [[1, 2, 3], [4, 5, 6]]])\n",
    "\n",
    "print(a.ndim)\n",
    "print(b.ndim)\n",
    "print(c.ndim)\n",
    "print(d.ndim)"
   ]
  },
  {
   "cell_type": "markdown",
   "id": "2ba349ea-551b-49f7-b36f-11f34e8bbc78",
   "metadata": {},
   "source": [
    "Can define **ndim** when creat array:"
   ]
  },
  {
   "cell_type": "code",
   "execution_count": 13,
   "id": "312a662e-7b78-4ee1-a70b-897b4f066aea",
   "metadata": {
    "tags": []
   },
   "outputs": [
    {
     "name": "stdout",
     "output_type": "stream",
     "text": [
      "[[[[[1 2 3 4]]]]]\n",
      "number of dimensions : 5\n"
     ]
    }
   ],
   "source": [
    "arr = np.array([1, 2, 3, 4], ndmin=5)\n",
    "\n",
    "print(arr)\n",
    "print('number of dimensions :', arr.ndim)"
   ]
  },
  {
   "cell_type": "markdown",
   "id": "385b035b-1d21-4ebb-9657-939f9e2180eb",
   "metadata": {},
   "source": [
    "\n",
    "## NUMPY ARRAY INDEXING\n"
   ]
  },
  {
   "cell_type": "markdown",
   "id": "4fa46a8f-4fbb-47de-8aaa-c5518bc064ee",
   "metadata": {},
   "source": [
    "HOW ACESS A ELEMENT IN ARRAY NUMPY:\n",
    "\n"
   ]
  },
  {
   "cell_type": "code",
   "execution_count": 14,
   "id": "f038f546-55ec-4448-aaf9-f69d13fa60dd",
   "metadata": {
    "tags": []
   },
   "outputs": [
    {
     "name": "stdout",
     "output_type": "stream",
     "text": [
      "1\n"
     ]
    }
   ],
   "source": [
    "arr = np.array([1, 2, 3, 4])\n",
    "\n",
    "print(arr[0])"
   ]
  },
  {
   "cell_type": "markdown",
   "id": "3200f1e2-3290-4bf3-af34-ebfcc619390d",
   "metadata": {},
   "source": [
    "FOR 2-D ARRAYS, 3-D ARRAYS:"
   ]
  },
  {
   "cell_type": "code",
   "execution_count": 17,
   "id": "5dc139bf-2cff-43dd-abb1-3b722c1ea339",
   "metadata": {
    "tags": []
   },
   "outputs": [
    {
     "name": "stdout",
     "output_type": "stream",
     "text": [
      "2nd element on 1st row:  2\n",
      "7\n",
      "12\n"
     ]
    }
   ],
   "source": [
    "#2-D ARRAYS\n",
    "arr = np.array([[1,2,3,4,5], [6,7,8,9,10]])\n",
    "\n",
    "print('2nd element on 1st row: ', arr[0, 1])\n",
    "print(arr[1, 1])\n",
    "\n",
    "#3-D ARRAYS\n",
    "arr = np.array([[[1, 2, 3], [4, 5, 6]], [[7, 8, 9], [10, 11, 12]]])\n",
    "\n",
    "print(arr[1, 1, 2])"
   ]
  },
  {
   "cell_type": "markdown",
   "id": "f8401cbd-087a-4da0-a237-c3c8dc3b77c8",
   "metadata": {},
   "source": [
    "**Explain**:\n"
   ]
  },
  {
   "cell_type": "markdown",
   "id": "26ecd924-9c4e-468b-8914-b83c34d94a14",
   "metadata": {},
   "source": [
    "> 3-D arrays have lot 2-D arrays and 2-D arrays also have lot 1-D arrays\n",
    ">\n",
    "> Index first use to chose 2-D arrays\n",
    ">\n",
    "> Index second use to chose 1-D arrays\n",
    ">\n",
    "> Index third use to chose element in 1-D arrays"
   ]
  },
  {
   "cell_type": "markdown",
   "id": "3b60a56f-22e8-4b24-ace9-2b644db15fff",
   "metadata": {},
   "source": [
    "Can use negative indexing:"
   ]
  },
  {
   "cell_type": "code",
   "execution_count": 21,
   "id": "6ef4bb9d-6d40-4342-8f14-5f00491e3249",
   "metadata": {
    "tags": []
   },
   "outputs": [
    {
     "name": "stdout",
     "output_type": "stream",
     "text": [
      "Last element from 2nd dim:  9\n"
     ]
    }
   ],
   "source": [
    "arr = np.array([[1,2,3,4,5], [6,7,8,9,10]])\n",
    "\n",
    "print('Last element from 2nd dim: ', arr[1, -2])\n",
    "\n",
    "# negative index begin of right to left in a array"
   ]
  },
  {
   "cell_type": "markdown",
   "id": "2bf66aa5-8703-498a-82ad-d9cdce67fb32",
   "metadata": {},
   "source": [
    "\n",
    "## NUMPY ARRAY SLICING\n"
   ]
  },
  {
   "cell_type": "markdown",
   "id": "afec83a0-deff-4485-bb2f-18ad042c7d66",
   "metadata": {},
   "source": [
    "Slicing in python means taking elements from one given index to another given index.\n",
    "\n",
    "We pass slice instead of index like this: <font color='red'>[start:end]</font>.\n",
    "\n",
    "We can also define the step, like this: <font color='red'>[start:end:step]</font>.\n",
    "\n",
    "> Example:\n",
    ">"
   ]
  },
  {
   "cell_type": "code",
   "execution_count": 23,
   "id": "f52e0713-5858-43ba-9450-652c503578e8",
   "metadata": {
    "tags": []
   },
   "outputs": [
    {
     "name": "stdout",
     "output_type": "stream",
     "text": [
      "[2 3 4 5]\n",
      "[5 6 7]\n",
      "[1 2 3 4]\n"
     ]
    }
   ],
   "source": [
    "arr = np.array([1, 2, 3, 4, 5, 6, 7])\n",
    "\n",
    "#index 1 to index 5(not included)\n",
    "print(arr[1:5])\n",
    "\n",
    "#index 4 to end\n",
    "print(arr[4:])\n",
    "\n",
    "#begin to index 4(not included)\n",
    "print(arr[:4])"
   ]
  },
  {
   "cell_type": "markdown",
   "id": "e84460e8-2c40-4930-82d3-65a7e432352f",
   "metadata": {},
   "source": [
    "\n",
    "## NUMPY DATA TYPES\n"
   ]
  },
  {
   "cell_type": "markdown",
   "id": "563d9383-c450-411a-9510-db6d285547f3",
   "metadata": {},
   "source": [
    "NumPy has some extra data types, and refer to data types with one character, like i for integers, u for unsigned integers etc.\n",
    "\n",
    "Below is a list of all data types in NumPy and the characters used to represent them.\n",
    "\n",
    "- i - integer\n",
    "- b - boolean\n",
    "- u - unsigned integer\n",
    "- f - float\n",
    "- c - complex float\n",
    "- m - timedelta\n",
    "- M - datetime\n",
    "- O - object\n",
    "- S - string\n",
    "- U - unicode string\n",
    "- V - fixe-d chunk of memory for other type ( void )\n",
    "\n",
    "Use **dtype** to check data type of element in numpy array:"
   ]
  },
  {
   "cell_type": "code",
   "execution_count": 24,
   "id": "060920b9-4acb-4a47-8da7-230f3dce64a3",
   "metadata": {
    "tags": []
   },
   "outputs": [
    {
     "name": "stdout",
     "output_type": "stream",
     "text": [
      "<U6\n"
     ]
    }
   ],
   "source": [
    "arr = np.array(['apple', 'banana', 'cherry'])\n",
    "\n",
    "print(arr.dtype)"
   ]
  },
  {
   "cell_type": "markdown",
   "id": "065d0096-8543-4fa9-acb3-680a93c14767",
   "metadata": {},
   "source": [
    "Creating array with a defined data type for element:"
   ]
  },
  {
   "cell_type": "code",
   "execution_count": 25,
   "id": "462c1189-9711-45d3-a9e5-bf50ff4955d6",
   "metadata": {
    "tags": []
   },
   "outputs": [
    {
     "name": "stdout",
     "output_type": "stream",
     "text": [
      "[b'1' b'2' b'3' b'4']\n",
      "|S1\n"
     ]
    }
   ],
   "source": [
    "arr = np.array([1, 2, 3, 4], dtype='S')\n",
    "\n",
    "print(arr)\n",
    "print(arr.dtype)"
   ]
  },
  {
   "cell_type": "markdown",
   "id": "ef773908-e13a-4d42-95aa-475876b6a15b",
   "metadata": {},
   "source": [
    "> Example:\n",
    ">\n",
    "> Create an array with data type 4 bytes integer:\n",
    ">"
   ]
  },
  {
   "cell_type": "code",
   "execution_count": 26,
   "id": "c47fbd45-2fcb-439d-9509-32799a1f350d",
   "metadata": {
    "tags": []
   },
   "outputs": [
    {
     "name": "stdout",
     "output_type": "stream",
     "text": [
      "[1 2 3 4]\n",
      "int32\n"
     ]
    }
   ],
   "source": [
    "arr = np.array([1, 2, 3, 4], dtype='i4')\n",
    "\n",
    "print(arr)\n",
    "print(arr.dtype)"
   ]
  },
  {
   "cell_type": "markdown",
   "id": "fe22cca0-d524-405e-b875-d540ce5a88c1",
   "metadata": {},
   "source": [
    "CONVERT DATA TYPE:\n",
    "\n",
    "Not convert direct when creating a array\n",
    "\n",
    "Best way: copy a new array and use **astype()** \n",
    "\n",
    "**astype()** have parameters be what data type you want\n"
   ]
  },
  {
   "cell_type": "code",
   "execution_count": 27,
   "id": "a8b2397a-b56f-4448-bf0a-d50ac809124f",
   "metadata": {
    "tags": []
   },
   "outputs": [
    {
     "name": "stdout",
     "output_type": "stream",
     "text": [
      "[1 2 3]\n",
      "int32\n"
     ]
    }
   ],
   "source": [
    "arr = np.array([1.1, 2.1, 3.1])\n",
    "\n",
    "newarr = arr.astype(int)\n",
    "\n",
    "print(newarr)\n",
    "print(newarr.dtype)"
   ]
  },
  {
   "cell_type": "markdown",
   "id": "aff9297f-de49-4264-b0d1-ca3ff701f3df",
   "metadata": {},
   "source": [
    "\n",
    "## NUMPY ARRAY COPY AND VIEW\n"
   ]
  },
  {
   "cell_type": "markdown",
   "id": "9f424f26-7427-4f27-b12b-f60e5c66c43a",
   "metadata": {},
   "source": [
    "The main difference between a copy and a view of an array is that the copy is a new array, and the view is just a view of the original array.\n",
    "\n",
    "The copy owns the data and any changes made to the copy will not affect original array, and any changes made to the original array will not affect the copy.\n",
    "\n",
    "The view does not own the data and any changes made to the view will affect the original array, and any changes made to the original array will affect the view.\n",
    "\n",
    "EXAMPLE:"
   ]
  },
  {
   "cell_type": "code",
   "execution_count": 29,
   "id": "3d3cc656-b119-4e28-95d9-dce5f49073eb",
   "metadata": {
    "tags": []
   },
   "outputs": [
    {
     "name": "stdout",
     "output_type": "stream",
     "text": [
      "[42  2  3  4  5]\n",
      "[1 2 3 4 5]\n"
     ]
    }
   ],
   "source": [
    "#use copy:\n",
    "arr = np.array([1, 2, 3, 4, 5])\n",
    "x = arr.copy()\n",
    "arr[0] = 42\n",
    "\n",
    "print(arr)\n",
    "print(x)"
   ]
  },
  {
   "cell_type": "code",
   "execution_count": 30,
   "id": "5e73ee91-29fb-4778-a29d-f80607ddbedd",
   "metadata": {
    "tags": []
   },
   "outputs": [
    {
     "name": "stdout",
     "output_type": "stream",
     "text": [
      "[42  2  3  4  5]\n",
      "[42  2  3  4  5]\n"
     ]
    }
   ],
   "source": [
    "#use view:\n",
    "arr = np.array([1, 2, 3, 4, 5])\n",
    "x = arr.view()\n",
    "arr[0] = 42\n",
    "\n",
    "print(arr)\n",
    "print(x)"
   ]
  },
  {
   "cell_type": "markdown",
   "id": "518812af-e883-448d-bb5f-bdcdcfe2e8a5",
   "metadata": {},
   "source": [
    "CHECK A ARRAY OWN ITS DATA\n",
    "\n",
    "Use **base**: return **None** if the array owns the data "
   ]
  },
  {
   "cell_type": "code",
   "execution_count": 31,
   "id": "3533a3db-15b0-499c-9577-e30bc794fde6",
   "metadata": {
    "tags": []
   },
   "outputs": [
    {
     "name": "stdout",
     "output_type": "stream",
     "text": [
      "None\n",
      "[1 2 3 4 5]\n"
     ]
    }
   ],
   "source": [
    "arr = np.array([1, 2, 3, 4, 5])\n",
    "\n",
    "x = arr.copy()\n",
    "y = arr.view()\n",
    "\n",
    "print(x.base)\n",
    "print(y.base)"
   ]
  },
  {
   "cell_type": "markdown",
   "id": "aae062a0-130f-4da2-8aee-4039004ec329",
   "metadata": {},
   "source": [
    "\n",
    "## NUMPY ARRAY SHAPE\n",
    "\n",
    "### GET SHAPE OF AN ARRAY\n",
    "\n",
    "NumPy arrays have an attribute called shape that returns a tuple with each index having the number of corresponding elements.\n",
    "\n",
    "EXAMPLE:\n",
    "\n",
    "The example above returns (2, 4), which means that the array has 2 dimensions, where the first dimension has 2 elements and the second has 4."
   ]
  },
  {
   "cell_type": "code",
   "execution_count": 33,
   "id": "4be6beb0-f671-4dc2-a5d5-fdcb99d3960d",
   "metadata": {
    "tags": []
   },
   "outputs": [
    {
     "name": "stdout",
     "output_type": "stream",
     "text": [
      "(2, 4)\n"
     ]
    }
   ],
   "source": [
    "arr = np.array([[1, 2, 3, 4], [5, 6, 7, 8]])\n",
    "\n",
    "print(arr.shape)"
   ]
  },
  {
   "cell_type": "markdown",
   "id": "84f29946-46d6-46e1-9ba7-0ca573d78c74",
   "metadata": {},
   "source": [
    "Create an array with 5 dimensions using **ndmin** using a vector with values 1,2,3,4 and verify that last dimension has value 4:"
   ]
  },
  {
   "cell_type": "code",
   "execution_count": 37,
   "id": "2910e81d-5f62-46e4-b1eb-fa857be7f0fa",
   "metadata": {
    "tags": []
   },
   "outputs": [
    {
     "name": "stdout",
     "output_type": "stream",
     "text": [
      "[[[1 2 3 4]]]\n",
      "[[[[[1 2 3 4]]]]]\n",
      "shape of array : (1, 1, 1, 1, 4)\n"
     ]
    }
   ],
   "source": [
    "arr = np.array([1, 2, 3, 4], ndmin=5)\n",
    "\n",
    "print(arr[0, 0])\n",
    "print(arr)\n",
    "print('shape of array :', arr.shape)"
   ]
  },
  {
   "cell_type": "markdown",
   "id": "04471dc7-d166-4e6a-9d91-269af3670360",
   "metadata": {},
   "source": [
    "> EXAMPLE:\n",
    ">"
   ]
  },
  {
   "cell_type": "code",
   "execution_count": 40,
   "id": "1b72c48c-0762-4e8f-b3a4-64b7805f0d52",
   "metadata": {
    "tags": []
   },
   "outputs": [
    {
     "name": "stdout",
     "output_type": "stream",
     "text": [
      "(3, 2, 3)\n"
     ]
    }
   ],
   "source": [
    "arr = np.array([[[1, 2, 3], [1, 2, 4]], [[1, 6, 7], [1, 2, 9]], [[1, 6, 7], [1, 2, 9]]])\n",
    "\n",
    "print(arr.shape)"
   ]
  },
  {
   "cell_type": "markdown",
   "id": "713b33cf-877c-4483-98e8-6703222387b1",
   "metadata": {},
   "source": [
    "\n",
    "## NUMPY ARRAY RESHAPE\n",
    "\n",
    "Chane the shape of an array\n",
    "\n",
    "EXAMPLE:\n",
    "\n",
    "> Convert the following 1-D array with 12 elements into a 2-D array:\n",
    "\n",
    "> number parameter in method reshape is number-D\n",
    "\n",
    "> Below is new array what have shape be 2-D"
   ]
  },
  {
   "cell_type": "code",
   "execution_count": 4,
   "id": "dbd83c6b-fcd2-4ab9-9d98-8d10aa3e96e2",
   "metadata": {
    "tags": []
   },
   "outputs": [
    {
     "name": "stdout",
     "output_type": "stream",
     "text": [
      "[[ 1  2  3]\n",
      " [ 4  5  6]\n",
      " [ 7  8  9]\n",
      " [10 11 12]]\n",
      "[[[ 1  2]\n",
      "  [ 3  4]\n",
      "  [ 5  6]]\n",
      "\n",
      " [[ 7  8]\n",
      "  [ 9 10]\n",
      "  [11 12]]]\n"
     ]
    }
   ],
   "source": [
    "arr = np.array([1, 2, 3, 4, 5, 6, 7, 8, 9, 10, 11, 12])\n",
    "\n",
    "newarr = arr.reshape(4, 3)\n",
    "\n",
    "print(newarr)\n",
    "\n",
    "arr2 = np.array([1, 2, 3, 4, 5, 6, 7, 8, 9, 10, 11, 12])\n",
    "\n",
    "newarr2 = arr2.reshape(2, 3, 2)\n",
    "\n",
    "print(newarr2)"
   ]
  },
  {
   "cell_type": "markdown",
   "id": "05bfced2-655c-40fa-8c3f-1fc11953685a",
   "metadata": {},
   "source": [
    "> Converting an array to 1-D: \n",
    "\n",
    "> use reshape(-1)\n"
   ]
  },
  {
   "cell_type": "code",
   "execution_count": 5,
   "id": "9f1bccd2-027f-46f1-b41f-3b40fed3959d",
   "metadata": {
    "tags": []
   },
   "outputs": [
    {
     "name": "stdout",
     "output_type": "stream",
     "text": [
      "[1 2 3 4 5 6]\n"
     ]
    }
   ],
   "source": [
    "arr = np.array([[1, 2, 3], [4, 5, 6]])\n",
    "\n",
    "newarr = arr.reshape(-1)\n",
    "\n",
    "print(newarr)"
   ]
  },
  {
   "cell_type": "markdown",
   "id": "efd7b675-d3b0-4b05-a38a-f8f50632c3ab",
   "metadata": {},
   "source": [
    "\n",
    "## NUMPY ARRAY ITERATING\n",
    "\n",
    "Iterating means going through elements one by one.\n",
    "\n",
    "As we deal with multi-dimensional arrays in numpy, we can do this using basic for loop of python.\n",
    "\n",
    "If we iterate on a 1-D array it will go through each element one by one.\n",
    "\n",
    "> Example\n",
    ">\n",
    "> Iterate on the elements of the following 1-D array:\n",
    ">"
   ]
  },
  {
   "cell_type": "code",
   "execution_count": 8,
   "id": "3650e5c2-2f88-4ca4-879c-eddf538b6cd5",
   "metadata": {
    "tags": []
   },
   "outputs": [
    {
     "name": "stdout",
     "output_type": "stream",
     "text": [
      "1\n",
      "2\n",
      "3\n",
      "[1 2 3]\n",
      "[4 5 6]\n",
      "1\n",
      "2\n",
      "3\n",
      "4\n",
      "5\n",
      "6\n"
     ]
    }
   ],
   "source": [
    "arr = np.array([1, 2, 3])\n",
    "\n",
    "#1-D array\n",
    "for x in arr:\n",
    "  print(x)\n",
    "\n",
    "#2-D array\n",
    "arr1 = np.array([[1, 2, 3], [4, 5, 6]])\n",
    "\n",
    "for x in arr1:\n",
    "  print(x)\n",
    "\n",
    "#or:\n",
    "for x in arr1:\n",
    "  for y in x:\n",
    "    print(y)"
   ]
  },
  {
   "cell_type": "markdown",
   "id": "8362ebea-5748-49f0-b647-dab960cb036d",
   "metadata": {},
   "source": [
    "\n",
    "### Iterating Arrays Using nditer()\n",
    "\n",
    "The function nditer() is a helping function that can be used from very basic to very advanced iterations. It solves some basic issues which we face in iteration, lets go through it with examples.\n",
    "\n",
    "> Avoid to use loop in loop, use nditer():"
   ]
  },
  {
   "cell_type": "code",
   "execution_count": 9,
   "id": "53bdb439-fecf-43da-af49-e7757cce3379",
   "metadata": {
    "tags": []
   },
   "outputs": [
    {
     "name": "stdout",
     "output_type": "stream",
     "text": [
      "1\n",
      "2\n",
      "3\n",
      "4\n",
      "5\n",
      "6\n",
      "7\n",
      "8\n"
     ]
    }
   ],
   "source": [
    "arr = np.array([[[1, 2], [3, 4]], [[5, 6], [7, 8]]])\n",
    "\n",
    "for x in np.nditer(arr):\n",
    "  print(x)"
   ]
  },
  {
   "cell_type": "markdown",
   "id": "a08d029e-c0a6-46d2-81a7-fff51b564fa1",
   "metadata": {},
   "source": [
    "\n",
    "### Enumerated Iteration Using ndenumerate()\n",
    "\n",
    "Enumeration means mentioning sequence number of somethings one by one.\n",
    "\n",
    "Sometimes we require corresponding index of the element while iterating, the ndenumerate() method can be used for those usecases.\n"
   ]
  },
  {
   "cell_type": "code",
   "execution_count": 11,
   "id": "b607d64b-fbe2-4a51-b6ee-d11dbb5183dd",
   "metadata": {
    "tags": []
   },
   "outputs": [
    {
     "name": "stdout",
     "output_type": "stream",
     "text": [
      "(0, 0) 1\n",
      "(0, 1) 2\n",
      "(0, 2) 3\n",
      "(0, 3) 4\n",
      "(1, 0) 5\n",
      "(1, 1) 6\n",
      "(1, 2) 7\n",
      "(1, 3) 8\n"
     ]
    }
   ],
   "source": [
    "\n",
    "arr = np.array([1,1,2,3, 2, 3])\n",
    "\n",
    "arr = np.array([[1, 2, 3, 4], [5, 6, 7, 8]])\n",
    "\n",
    "for idx, x in np.ndenumerate(arr):\n",
    "  print(idx, x)"
   ]
  },
  {
   "cell_type": "markdown",
   "id": "80320c79-f271-4bdf-951b-59bd5c7fdb93",
   "metadata": {},
   "source": [
    "\n",
    "## NUMPY JOINING ARRAY\n",
    "\n",
    "### Joining Numpy array\n",
    "\n",
    "Joining means putting contents of two or more arrays in a single array.\n",
    "\n",
    "In SQL we join tables based on a key, whereas in NumPy we join arrays by axes.\n",
    "\n",
    "We pass a sequence of arrays that we want to join to the concatenate() function, along with the axis. If axis is not explicitly passed, it is taken as 0."
   ]
  },
  {
   "cell_type": "code",
   "execution_count": 12,
   "id": "d2ae769b-5f78-44d0-96ef-1555c1ea2e2f",
   "metadata": {
    "tags": []
   },
   "outputs": [
    {
     "name": "stdout",
     "output_type": "stream",
     "text": [
      "[1 2 3 4 5 6]\n"
     ]
    }
   ],
   "source": [
    "arr1 = np.array([1, 2, 3])\n",
    "\n",
    "arr2 = np.array([4, 5, 6])\n",
    "\n",
    "arr = np.concatenate((arr1, arr2))\n",
    "\n",
    "print(arr)"
   ]
  },
  {
   "cell_type": "code",
   "execution_count": 13,
   "id": "4bc40a0f-6ea8-400e-a159-46d85b8969e1",
   "metadata": {
    "tags": []
   },
   "outputs": [
    {
     "name": "stdout",
     "output_type": "stream",
     "text": [
      "[[1 2 5 6]\n",
      " [3 4 7 8]]\n"
     ]
    }
   ],
   "source": [
    "arr1 = np.array([[1, 2], [3, 4]])\n",
    "\n",
    "arr2 = np.array([[5, 6], [7, 8]])\n",
    "\n",
    "arr = np.concatenate((arr1, arr2), axis=1)\n",
    "\n",
    "print(arr)"
   ]
  },
  {
   "cell_type": "markdown",
   "id": "932e6a12-5b87-4da0-87f6-d535a144f097",
   "metadata": {},
   "source": [
    "### Joining Arrays Using Stack Functions\n",
    "\n",
    "Stacking is same as concatenation, the only difference is that stacking is done along a new axis.\n",
    "\n",
    "We can concatenate two 1-D arrays along the second axis which would result in putting them one over the other, ie. stacking.\n",
    "\n",
    "We pass a sequence of arrays that we want to join to the stack() method along with the axis. If axis is not explicitly passed it is taken as 0."
   ]
  },
  {
   "cell_type": "code",
   "execution_count": 14,
   "id": "f1ca7d13-57ae-4d96-90ca-228d44209fa9",
   "metadata": {
    "tags": []
   },
   "outputs": [
    {
     "name": "stdout",
     "output_type": "stream",
     "text": [
      "[[1 4]\n",
      " [2 5]\n",
      " [3 6]]\n"
     ]
    }
   ],
   "source": [
    "arr1 = np.array([1, 2, 3])\n",
    "\n",
    "arr2 = np.array([4, 5, 6])\n",
    "\n",
    "arr = np.stack((arr1, arr2), axis=1)\n",
    "\n",
    "print(arr)"
   ]
  },
  {
   "cell_type": "markdown",
   "id": "c5a7d7e8-0269-44e0-83ca-21ac59a09767",
   "metadata": {},
   "source": [
    "Type joining use stack:\n",
    "\n",
    "1. hstack() to stack along rows.\n",
    "2. vstack()  to stack along columns.\n",
    "3. dstack() to stack along height, which is the same as depth."
   ]
  },
  {
   "cell_type": "code",
   "execution_count": 17,
   "id": "d9a7fb3b-2e03-4f65-9ca3-aab1f7b3579b",
   "metadata": {
    "tags": []
   },
   "outputs": [
    {
     "name": "stdout",
     "output_type": "stream",
     "text": [
      "hstack():  [1 2 3 4 5 6]\n",
      "vstack():  [[1 2 3]\n",
      " [4 5 6]]\n",
      "dtack():  [[[1 4]\n",
      "  [2 5]\n",
      "  [3 6]]]\n"
     ]
    }
   ],
   "source": [
    "# hstack()\n",
    "arr1 = np.array([1, 2, 3])\n",
    "\n",
    "arr2 = np.array([4, 5, 6])\n",
    "\n",
    "result1 = np.hstack((arr1, arr2))\n",
    "\n",
    "print(\"hstack(): \", result1)\n",
    "# vstack()\n",
    "arr3 = np.array([1, 2, 3])\n",
    "\n",
    "arr4 = np.array([4, 5, 6])\n",
    "\n",
    "result2 = np.vstack((arr3, arr4))\n",
    "\n",
    "print(\"vstack(): \", result2)\n",
    "#dstack()\n",
    "arr5 = np.array([1, 2, 3])\n",
    "\n",
    "arr6 = np.array([4, 5, 6])\n",
    "\n",
    "result3 = np.dstack((arr5, arr6))\n",
    "                \n",
    "print(\"dtack(): \", result3)"
   ]
  },
  {
   "cell_type": "markdown",
   "id": "8b86df9d-d1b2-4e78-b75c-573b328b7319",
   "metadata": {},
   "source": [
    "\n",
    "## NUMPY ARRAY SPLIT\n",
    "\n",
    "### Splitting NumPy Arrays\n",
    "\n",
    "Splitting is reverse operation of Joining.\n",
    "\n",
    "Joining merges multiple arrays into one and Splitting breaks one array into multiple.\n",
    "\n",
    "We use array_split() for splitting arrays, we pass it the array we want to split and the number of splits.\n",
    "\n",
    "\n",
    "> **Note:** The return value is a list containing three arrays."
   ]
  },
  {
   "cell_type": "code",
   "execution_count": 20,
   "id": "8f3d7d54-3d11-4847-94b7-9bf266ca860f",
   "metadata": {
    "tags": []
   },
   "outputs": [
    {
     "name": "stdout",
     "output_type": "stream",
     "text": [
      "[array([1, 2]), array([3, 4]), array([5, 6])]\n",
      "<class 'list'>\n"
     ]
    }
   ],
   "source": [
    "arr = np.array([1, 2, 3, 4, 5, 6])\n",
    "\n",
    "newarr = np.array_split(arr, 3)\n",
    "\n",
    "print(newarr)\n",
    "print(type(newarr))"
   ]
  },
  {
   "cell_type": "code",
   "execution_count": 22,
   "id": "6daaa77f-5ebd-4353-afff-c1c00175a6cc",
   "metadata": {
    "tags": []
   },
   "outputs": [
    {
     "name": "stdout",
     "output_type": "stream",
     "text": [
      "[1 2]\n",
      "[3 4]\n",
      "[5 6]\n"
     ]
    }
   ],
   "source": [
    "arr = np.array([1, 2, 3, 4, 5, 6])\n",
    "newarr = np.array_split(arr, 3)\n",
    "\n",
    "print(newarr[0])\n",
    "print(newarr[1])\n",
    "print(newarr[2])"
   ]
  },
  {
   "cell_type": "markdown",
   "id": "865364b3-f990-43ce-8465-b91c62fe4c9d",
   "metadata": {},
   "source": [
    "\n",
    "## NUMPY SEARCH ARRAYS\n",
    "\n",
    "### Searching Arrays\n",
    "\n",
    "You can search an array for a certain value, and return the indexes that get a match.\n",
    "\n",
    "To search an array, use the where() method.\n",
    "\n",
    "> Return index of elements\n"
   ]
  },
  {
   "cell_type": "code",
   "execution_count": 23,
   "id": "f482dcf7-5c05-493f-9a2e-10f6c00070e7",
   "metadata": {
    "tags": []
   },
   "outputs": [
    {
     "name": "stdout",
     "output_type": "stream",
     "text": [
      "(array([3, 5, 6], dtype=int64),)\n"
     ]
    }
   ],
   "source": [
    "arr = np.array([1, 2, 3, 4, 5, 4, 4])\n",
    "\n",
    "x = np.where(arr == 4)\n",
    "\n",
    "print(x)\n"
   ]
  },
  {
   "cell_type": "markdown",
   "id": "bdd9b99d-377c-4ae8-a3f1-a38061e41515",
   "metadata": {},
   "source": [
    "### Search Sorted\n",
    "\n",
    "There is a method called searchsorted() which performs a binary search in the array, and returns the index where the specified value would be inserted to maintain the search order."
   ]
  },
  {
   "cell_type": "code",
   "execution_count": 26,
   "id": "9fc79bd9-1b8e-4011-8c9e-c5589916cca4",
   "metadata": {
    "tags": []
   },
   "outputs": [
    {
     "name": "stdout",
     "output_type": "stream",
     "text": [
      "1\n"
     ]
    }
   ],
   "source": [
    "\n",
    "arr = np.array([6, 7, 8,7,7,7,7, 9])\n",
    "\n",
    "x = np.searchsorted(arr, 7)\n",
    "\n",
    "print(x)"
   ]
  },
  {
   "cell_type": "markdown",
   "id": "99b321a3-2031-4a3b-9e0c-ca41c8db6037",
   "metadata": {},
   "source": [
    "**And Numpy can search from the right side and search multi values using searchsorted**"
   ]
  },
  {
   "cell_type": "code",
   "execution_count": 27,
   "id": "ba59eb29-8862-4a8b-b08d-301c314f8d79",
   "metadata": {
    "tags": []
   },
   "outputs": [
    {
     "name": "stdout",
     "output_type": "stream",
     "text": [
      "[1 2 3]\n"
     ]
    }
   ],
   "source": [
    "arr = np.array([1, 3, 5, 7])\n",
    "\n",
    "x = np.searchsorted(arr, [2, 4, 6])\n",
    "\n",
    "print(x)"
   ]
  },
  {
   "cell_type": "code",
   "execution_count": 28,
   "id": "c557e3be-7e6e-478c-8d99-505b0dc1b970",
   "metadata": {
    "tags": []
   },
   "outputs": [
    {
     "name": "stdout",
     "output_type": "stream",
     "text": [
      "2\n"
     ]
    }
   ],
   "source": [
    "arr = np.array([6, 7, 8, 9])\n",
    "\n",
    "x = np.searchsorted(arr, 7, side='right')\n",
    "\n",
    "print(x)"
   ]
  },
  {
   "cell_type": "markdown",
   "id": "41b3be7d-0bdd-4e5c-bdf3-5fa455f96975",
   "metadata": {},
   "source": [
    "\n",
    "## NUMPY ARRAY FILTER\n",
    "\n"
   ]
  },
  {
   "cell_type": "code",
   "execution_count": null,
   "id": "27c34e67-12d7-4eba-af5d-a090bb200a39",
   "metadata": {},
   "outputs": [],
   "source": []
  }
 ],
 "metadata": {
  "kernelspec": {
   "display_name": "Python 3 (ipykernel)",
   "language": "python",
   "name": "python3"
  },
  "language_info": {
   "codemirror_mode": {
    "name": "ipython",
    "version": 3
   },
   "file_extension": ".py",
   "mimetype": "text/x-python",
   "name": "python",
   "nbconvert_exporter": "python",
   "pygments_lexer": "ipython3",
   "version": "3.11.5"
  }
 },
 "nbformat": 4,
 "nbformat_minor": 5
}
