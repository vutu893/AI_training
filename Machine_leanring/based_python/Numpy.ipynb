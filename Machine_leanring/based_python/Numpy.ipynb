{
 "cells": [
  {
   "cell_type": "markdown",
   "id": "a4277ae4-592b-4e13-bab5-36d22d7a37ba",
   "metadata": {},
   "source": [
    "\n",
    "# <center>Learn Numpy in Python </center>\n"
   ]
  },
  {
   "cell_type": "markdown",
   "id": "72c73d72-18c8-40cb-a771-f4e1d34e3666",
   "metadata": {},
   "source": [
    "\n",
    "## Introduction\n",
    "\n",
    ">Numpy is a library in Python.<br>\n",
    ">It process array.\n"
   ]
  },
  {
   "cell_type": "markdown",
   "id": "346844eb-b935-4c7d-83cd-b1a6ebf2eaa3",
   "metadata": {},
   "source": [
    "\n",
    "## Concepts\n"
   ]
  },
  {
   "cell_type": "markdown",
   "id": "fad07a6c-18cc-4e3d-93e0-4e9d69fd743c",
   "metadata": {},
   "source": [
    "\n",
    "## Import Numpy:\n",
    "\n",
    "> import numpy\n",
    ">\n",
    "> Example:\n",
    ">\n",
    "> import numpy\n",
    ">\n",
    "> arr = numpy.array([1, 2, 3, 4, 5])\n",
    ">\n",
    "> print(arr)\n",
    "\n"
   ]
  },
  {
   "cell_type": "code",
   "execution_count": 4,
   "id": "31cffd6d-be3a-4918-b06e-f62bd6c3a3f8",
   "metadata": {
    "tags": []
   },
   "outputs": [
    {
     "name": "stdout",
     "output_type": "stream",
     "text": [
      "[1 2 3 4 5]\n",
      "<class 'numpy.ndarray'>\n"
     ]
    }
   ],
   "source": [
    "import numpy\n",
    "arr = numpy.array([1, 2, 3, 4, 5])\n",
    "print(arr)\n",
    "print(type(arr))\n"
   ]
  },
  {
   "cell_type": "markdown",
   "id": "ff56b66e-ea1d-4637-9e22-52d00bef13f4",
   "metadata": {},
   "source": [
    "> or as np\n",
    ">\n",
    "> import numpy as np\n",
    ">\n",
    "> check version of numpy"
   ]
  },
  {
   "cell_type": "code",
   "execution_count": 5,
   "id": "4dc915a1-ec97-4bac-86e9-cf7a5fb524ce",
   "metadata": {
    "tags": []
   },
   "outputs": [
    {
     "name": "stdout",
     "output_type": "stream",
     "text": [
      "1.24.3\n"
     ]
    }
   ],
   "source": [
    "print(numpy.__version__)"
   ]
  },
  {
   "cell_type": "markdown",
   "id": "7116699c-6d58-465d-8831-fd5f47118acc",
   "metadata": {},
   "source": [
    "\n",
    "## CREATING A ARRAY IN NUMPY\n"
   ]
  },
  {
   "cell_type": "code",
   "execution_count": 7,
   "id": "cd447a56-50c2-4fad-a3b0-9d6384e33c65",
   "metadata": {
    "tags": []
   },
   "outputs": [],
   "source": [
    "import numpy as np\n",
    "arr = np.array([1, 2])"
   ]
  },
  {
   "cell_type": "markdown",
   "id": "e132b119-180b-4130-a49d-0f27a5cec689",
   "metadata": {},
   "source": [
    "0-D arrays: value is an value in array"
   ]
  },
  {
   "cell_type": "code",
   "execution_count": 8,
   "id": "5d67a579-87c1-4f13-a592-1d6f59ca0ca4",
   "metadata": {
    "tags": []
   },
   "outputs": [
    {
     "name": "stdout",
     "output_type": "stream",
     "text": [
      "42\n"
     ]
    }
   ],
   "source": [
    "arr = np.array(42)\n",
    "print(arr)"
   ]
  },
  {
   "cell_type": "markdown",
   "id": "89a4da5b-14fc-466d-aeb8-ad5763d7572f",
   "metadata": {},
   "source": [
    "1-D arrays:"
   ]
  },
  {
   "cell_type": "code",
   "execution_count": 9,
   "id": "8bcb27e3-f826-42a1-94a7-323645ad2497",
   "metadata": {
    "tags": []
   },
   "outputs": [
    {
     "name": "stdout",
     "output_type": "stream",
     "text": [
      "[1 2 3 4 5]\n"
     ]
    }
   ],
   "source": [
    "arr = np.array([1, 2, 3, 4, 5])\n",
    "print(arr)"
   ]
  },
  {
   "cell_type": "markdown",
   "id": "8dc489fe-864c-42f8-869e-774bf4aef52e",
   "metadata": {},
   "source": [
    "2-D arrays:"
   ]
  },
  {
   "cell_type": "code",
   "execution_count": 11,
   "id": "37d6183d-4972-42ca-964b-b5502e650744",
   "metadata": {
    "tags": []
   },
   "outputs": [
    {
     "name": "stdout",
     "output_type": "stream",
     "text": [
      "[[1 2 3]\n",
      " [1 2 5]]\n"
     ]
    }
   ],
   "source": [
    "arr = np.array([[1, 2, 3], [1, 2, 5]])\n",
    "print(arr)"
   ]
  },
  {
   "cell_type": "markdown",
   "id": "2c0f9182-3566-40ae-9457-47cb2e884996",
   "metadata": {},
   "source": [
    "use **ndim** check number n-D:"
   ]
  },
  {
   "cell_type": "code",
   "execution_count": 12,
   "id": "593d0855-a36b-4492-a7cc-7ed7b8d6f4f8",
   "metadata": {
    "tags": []
   },
   "outputs": [
    {
     "name": "stdout",
     "output_type": "stream",
     "text": [
      "0\n",
      "1\n",
      "2\n",
      "3\n"
     ]
    }
   ],
   "source": [
    "a = np.array(42)\n",
    "b = np.array([1, 2, 3, 4, 5])\n",
    "c = np.array([[1, 2, 3], [4, 5, 6]])\n",
    "d = np.array([[[1, 2, 3], [4, 5, 6]], [[1, 2, 3], [4, 5, 6]]])\n",
    "\n",
    "print(a.ndim)\n",
    "print(b.ndim)\n",
    "print(c.ndim)\n",
    "print(d.ndim)"
   ]
  },
  {
   "cell_type": "markdown",
   "id": "2ba349ea-551b-49f7-b36f-11f34e8bbc78",
   "metadata": {},
   "source": [
    "Can define **ndim** when creat array:"
   ]
  },
  {
   "cell_type": "code",
   "execution_count": 13,
   "id": "312a662e-7b78-4ee1-a70b-897b4f066aea",
   "metadata": {
    "tags": []
   },
   "outputs": [
    {
     "name": "stdout",
     "output_type": "stream",
     "text": [
      "[[[[[1 2 3 4]]]]]\n",
      "number of dimensions : 5\n"
     ]
    }
   ],
   "source": [
    "arr = np.array([1, 2, 3, 4], ndmin=5)\n",
    "\n",
    "print(arr)\n",
    "print('number of dimensions :', arr.ndim)"
   ]
  },
  {
   "cell_type": "markdown",
   "id": "385b035b-1d21-4ebb-9657-939f9e2180eb",
   "metadata": {},
   "source": [
    "\n",
    "## NUMPY ARRAY INDEXING\n"
   ]
  },
  {
   "cell_type": "markdown",
   "id": "4fa46a8f-4fbb-47de-8aaa-c5518bc064ee",
   "metadata": {},
   "source": [
    "HOW ACESS A ELEMENT IN ARRAY NUMPY:\n",
    "\n"
   ]
  },
  {
   "cell_type": "code",
   "execution_count": 14,
   "id": "f038f546-55ec-4448-aaf9-f69d13fa60dd",
   "metadata": {
    "tags": []
   },
   "outputs": [
    {
     "name": "stdout",
     "output_type": "stream",
     "text": [
      "1\n"
     ]
    }
   ],
   "source": [
    "arr = np.array([1, 2, 3, 4])\n",
    "\n",
    "print(arr[0])"
   ]
  },
  {
   "cell_type": "markdown",
   "id": "3200f1e2-3290-4bf3-af34-ebfcc619390d",
   "metadata": {},
   "source": [
    "FOR 2-D ARRAYS, 3-D ARRAYS:"
   ]
  },
  {
   "cell_type": "code",
   "execution_count": 17,
   "id": "5dc139bf-2cff-43dd-abb1-3b722c1ea339",
   "metadata": {
    "tags": []
   },
   "outputs": [
    {
     "name": "stdout",
     "output_type": "stream",
     "text": [
      "2nd element on 1st row:  2\n",
      "7\n",
      "12\n"
     ]
    }
   ],
   "source": [
    "#2-D ARRAYS\n",
    "arr = np.array([[1,2,3,4,5], [6,7,8,9,10]])\n",
    "\n",
    "print('2nd element on 1st row: ', arr[0, 1])\n",
    "print(arr[1, 1])\n",
    "\n",
    "#3-D ARRAYS\n",
    "arr = np.array([[[1, 2, 3], [4, 5, 6]], [[7, 8, 9], [10, 11, 12]]])\n",
    "\n",
    "print(arr[1, 1, 2])"
   ]
  },
  {
   "cell_type": "markdown",
   "id": "f8401cbd-087a-4da0-a237-c3c8dc3b77c8",
   "metadata": {},
   "source": [
    "**Explain**:\n"
   ]
  },
  {
   "cell_type": "markdown",
   "id": "26ecd924-9c4e-468b-8914-b83c34d94a14",
   "metadata": {},
   "source": [
    "> 3-D arrays have lot 2-D arrays and 2-D arrays also have lot 1-D arrays\n",
    ">\n",
    "> Index first use to chose 2-D arrays\n",
    ">\n",
    "> Index second use to chose 1-D arrays\n",
    ">\n",
    "> Index third use to chose element in 1-D arrays"
   ]
  },
  {
   "cell_type": "markdown",
   "id": "3b60a56f-22e8-4b24-ace9-2b644db15fff",
   "metadata": {},
   "source": [
    "Can use negative indexing:"
   ]
  },
  {
   "cell_type": "code",
   "execution_count": 21,
   "id": "6ef4bb9d-6d40-4342-8f14-5f00491e3249",
   "metadata": {
    "tags": []
   },
   "outputs": [
    {
     "name": "stdout",
     "output_type": "stream",
     "text": [
      "Last element from 2nd dim:  9\n"
     ]
    }
   ],
   "source": [
    "arr = np.array([[1,2,3,4,5], [6,7,8,9,10]])\n",
    "\n",
    "print('Last element from 2nd dim: ', arr[1, -2])\n",
    "\n",
    "# negative index begin of right to left in a array"
   ]
  },
  {
   "cell_type": "markdown",
   "id": "2bf66aa5-8703-498a-82ad-d9cdce67fb32",
   "metadata": {},
   "source": [
    "\n",
    "## NUMPY ARRAY SLICING\n"
   ]
  },
  {
   "cell_type": "markdown",
   "id": "afec83a0-deff-4485-bb2f-18ad042c7d66",
   "metadata": {},
   "source": [
    "Slicing in python means taking elements from one given index to another given index.\n",
    "\n",
    "We pass slice instead of index like this: <font color='red'>[start:end]</font>.\n",
    "\n",
    "We can also define the step, like this: <font color='red'>[start:end:step]</font>.\n",
    "\n",
    "> Example:\n",
    ">"
   ]
  },
  {
   "cell_type": "code",
   "execution_count": 23,
   "id": "f52e0713-5858-43ba-9450-652c503578e8",
   "metadata": {
    "tags": []
   },
   "outputs": [
    {
     "name": "stdout",
     "output_type": "stream",
     "text": [
      "[2 3 4 5]\n",
      "[5 6 7]\n",
      "[1 2 3 4]\n"
     ]
    }
   ],
   "source": [
    "arr = np.array([1, 2, 3, 4, 5, 6, 7])\n",
    "\n",
    "#index 1 to index 5(not included)\n",
    "print(arr[1:5])\n",
    "\n",
    "#index 4 to end\n",
    "print(arr[4:])\n",
    "\n",
    "#begin to index 4(not included)\n",
    "print(arr[:4])"
   ]
  },
  {
   "cell_type": "markdown",
   "id": "e84460e8-2c40-4930-82d3-65a7e432352f",
   "metadata": {},
   "source": [
    "\n",
    "## NUMPY DATA TYPES\n"
   ]
  },
  {
   "cell_type": "markdown",
   "id": "563d9383-c450-411a-9510-db6d285547f3",
   "metadata": {},
   "source": [
    "NumPy has some extra data types, and refer to data types with one character, like i for integers, u for unsigned integers etc.\n",
    "\n",
    "Below is a list of all data types in NumPy and the characters used to represent them.\n",
    "\n",
    "- i - integer\n",
    "- b - boolean\n",
    "- u - unsigned integer\n",
    "- f - float\n",
    "- c - complex float\n",
    "- m - timedelta\n",
    "- M - datetime\n",
    "- O - object\n",
    "- S - string\n",
    "- U - unicode string\n",
    "- V - fixe-d chunk of memory for other type ( void )\n",
    "\n",
    "Use **dtype** to check data type of element in numpy array:"
   ]
  },
  {
   "cell_type": "code",
   "execution_count": 24,
   "id": "060920b9-4acb-4a47-8da7-230f3dce64a3",
   "metadata": {
    "tags": []
   },
   "outputs": [
    {
     "name": "stdout",
     "output_type": "stream",
     "text": [
      "<U6\n"
     ]
    }
   ],
   "source": [
    "arr = np.array(['apple', 'banana', 'cherry'])\n",
    "\n",
    "print(arr.dtype)"
   ]
  },
  {
   "cell_type": "markdown",
   "id": "065d0096-8543-4fa9-acb3-680a93c14767",
   "metadata": {},
   "source": [
    "Creating array with a defined data type for element:"
   ]
  },
  {
   "cell_type": "code",
   "execution_count": 25,
   "id": "462c1189-9711-45d3-a9e5-bf50ff4955d6",
   "metadata": {
    "tags": []
   },
   "outputs": [
    {
     "name": "stdout",
     "output_type": "stream",
     "text": [
      "[b'1' b'2' b'3' b'4']\n",
      "|S1\n"
     ]
    }
   ],
   "source": [
    "arr = np.array([1, 2, 3, 4], dtype='S')\n",
    "\n",
    "print(arr)\n",
    "print(arr.dtype)"
   ]
  },
  {
   "cell_type": "markdown",
   "id": "ef773908-e13a-4d42-95aa-475876b6a15b",
   "metadata": {},
   "source": [
    "> Example:\n",
    ">\n",
    "> Create an array with data type 4 bytes integer:\n",
    ">"
   ]
  },
  {
   "cell_type": "code",
   "execution_count": 26,
   "id": "c47fbd45-2fcb-439d-9509-32799a1f350d",
   "metadata": {
    "tags": []
   },
   "outputs": [
    {
     "name": "stdout",
     "output_type": "stream",
     "text": [
      "[1 2 3 4]\n",
      "int32\n"
     ]
    }
   ],
   "source": [
    "arr = np.array([1, 2, 3, 4], dtype='i4')\n",
    "\n",
    "print(arr)\n",
    "print(arr.dtype)"
   ]
  },
  {
   "cell_type": "markdown",
   "id": "fe22cca0-d524-405e-b875-d540ce5a88c1",
   "metadata": {},
   "source": [
    "CONVERT DATA TYPE:\n",
    "\n",
    "Not convert direct when creating a array\n",
    "\n",
    "Best way: copy a new array and use **astype()** \n",
    "\n",
    "**astype()** have parameters be what data type you want\n"
   ]
  },
  {
   "cell_type": "code",
   "execution_count": 27,
   "id": "a8b2397a-b56f-4448-bf0a-d50ac809124f",
   "metadata": {
    "tags": []
   },
   "outputs": [
    {
     "name": "stdout",
     "output_type": "stream",
     "text": [
      "[1 2 3]\n",
      "int32\n"
     ]
    }
   ],
   "source": [
    "arr = np.array([1.1, 2.1, 3.1])\n",
    "\n",
    "newarr = arr.astype(int)\n",
    "\n",
    "print(newarr)\n",
    "print(newarr.dtype)"
   ]
  },
  {
   "cell_type": "markdown",
   "id": "aff9297f-de49-4264-b0d1-ca3ff701f3df",
   "metadata": {},
   "source": [
    "\n",
    "## NUMPY ARRAY COPY AND VIEW\n"
   ]
  },
  {
   "cell_type": "markdown",
   "id": "9f424f26-7427-4f27-b12b-f60e5c66c43a",
   "metadata": {},
   "source": [
    "The main difference between a copy and a view of an array is that the copy is a new array, and the view is just a view of the original array.\n",
    "\n",
    "The copy owns the data and any changes made to the copy will not affect original array, and any changes made to the original array will not affect the copy.\n",
    "\n",
    "The view does not own the data and any changes made to the view will affect the original array, and any changes made to the original array will affect the view.\n",
    "\n",
    "EXAMPLE:"
   ]
  },
  {
   "cell_type": "code",
   "execution_count": 29,
   "id": "3d3cc656-b119-4e28-95d9-dce5f49073eb",
   "metadata": {
    "tags": []
   },
   "outputs": [
    {
     "name": "stdout",
     "output_type": "stream",
     "text": [
      "[42  2  3  4  5]\n",
      "[1 2 3 4 5]\n"
     ]
    }
   ],
   "source": [
    "#use copy:\n",
    "arr = np.array([1, 2, 3, 4, 5])\n",
    "x = arr.copy()\n",
    "arr[0] = 42\n",
    "\n",
    "print(arr)\n",
    "print(x)"
   ]
  },
  {
   "cell_type": "code",
   "execution_count": 30,
   "id": "5e73ee91-29fb-4778-a29d-f80607ddbedd",
   "metadata": {
    "tags": []
   },
   "outputs": [
    {
     "name": "stdout",
     "output_type": "stream",
     "text": [
      "[42  2  3  4  5]\n",
      "[42  2  3  4  5]\n"
     ]
    }
   ],
   "source": [
    "#use view:\n",
    "arr = np.array([1, 2, 3, 4, 5])\n",
    "x = arr.view()\n",
    "arr[0] = 42\n",
    "\n",
    "print(arr)\n",
    "print(x)"
   ]
  },
  {
   "cell_type": "markdown",
   "id": "518812af-e883-448d-bb5f-bdcdcfe2e8a5",
   "metadata": {},
   "source": [
    "CHECK A ARRAY OWN ITS DATA\n",
    "\n",
    "Use **base**: return **None** if the array owns the data "
   ]
  },
  {
   "cell_type": "code",
   "execution_count": 31,
   "id": "3533a3db-15b0-499c-9577-e30bc794fde6",
   "metadata": {
    "tags": []
   },
   "outputs": [
    {
     "name": "stdout",
     "output_type": "stream",
     "text": [
      "None\n",
      "[1 2 3 4 5]\n"
     ]
    }
   ],
   "source": [
    "arr = np.array([1, 2, 3, 4, 5])\n",
    "\n",
    "x = arr.copy()\n",
    "y = arr.view()\n",
    "\n",
    "print(x.base)\n",
    "print(y.base)"
   ]
  },
  {
   "cell_type": "markdown",
   "id": "aae062a0-130f-4da2-8aee-4039004ec329",
   "metadata": {},
   "source": [
    "\n",
    "## NUMPY ARRAY SHAPE\n",
    "\n",
    "### GET SHAPE OF AN ARRAY\n",
    "\n",
    "NumPy arrays have an attribute called shape that returns a tuple with each index having the number of corresponding elements.\n",
    "\n",
    "EXAMPLE:\n",
    "\n",
    "The example above returns (2, 4), which means that the array has 2 dimensions, where the first dimension has 2 elements and the second has 4."
   ]
  },
  {
   "cell_type": "code",
   "execution_count": 33,
   "id": "4be6beb0-f671-4dc2-a5d5-fdcb99d3960d",
   "metadata": {
    "tags": []
   },
   "outputs": [
    {
     "name": "stdout",
     "output_type": "stream",
     "text": [
      "(2, 4)\n"
     ]
    }
   ],
   "source": [
    "arr = np.array([[1, 2, 3, 4], [5, 6, 7, 8]])\n",
    "\n",
    "print(arr.shape)"
   ]
  },
  {
   "cell_type": "markdown",
   "id": "84f29946-46d6-46e1-9ba7-0ca573d78c74",
   "metadata": {},
   "source": [
    "Create an array with 5 dimensions using **ndmin** using a vector with values 1,2,3,4 and verify that last dimension has value 4:"
   ]
  },
  {
   "cell_type": "code",
   "execution_count": 37,
   "id": "2910e81d-5f62-46e4-b1eb-fa857be7f0fa",
   "metadata": {
    "tags": []
   },
   "outputs": [
    {
     "name": "stdout",
     "output_type": "stream",
     "text": [
      "[[[1 2 3 4]]]\n",
      "[[[[[1 2 3 4]]]]]\n",
      "shape of array : (1, 1, 1, 1, 4)\n"
     ]
    }
   ],
   "source": [
    "arr = np.array([1, 2, 3, 4], ndmin=5)\n",
    "\n",
    "print(arr[0, 0])\n",
    "print(arr)\n",
    "print('shape of array :', arr.shape)"
   ]
  },
  {
   "cell_type": "markdown",
   "id": "04471dc7-d166-4e6a-9d91-269af3670360",
   "metadata": {},
   "source": [
    "> EXAMPLE:\n",
    ">"
   ]
  },
  {
   "cell_type": "code",
   "execution_count": 40,
   "id": "1b72c48c-0762-4e8f-b3a4-64b7805f0d52",
   "metadata": {
    "tags": []
   },
   "outputs": [
    {
     "name": "stdout",
     "output_type": "stream",
     "text": [
      "(3, 2, 3)\n"
     ]
    }
   ],
   "source": [
    "arr = np.array([[[1, 2, 3], [1, 2, 4]], [[1, 6, 7], [1, 2, 9]], [[1, 6, 7], [1, 2, 9]]])\n",
    "\n",
    "print(arr.shape)"
   ]
  },
  {
   "cell_type": "code",
   "execution_count": null,
   "id": "00e8014b-6b47-4aac-9447-df58edd0432b",
   "metadata": {},
   "outputs": [],
   "source": []
  }
 ],
 "metadata": {
  "kernelspec": {
   "display_name": "Python 3 (ipykernel)",
   "language": "python",
   "name": "python3"
  },
  "language_info": {
   "codemirror_mode": {
    "name": "ipython",
    "version": 3
   },
   "file_extension": ".py",
   "mimetype": "text/x-python",
   "name": "python",
   "nbconvert_exporter": "python",
   "pygments_lexer": "ipython3",
   "version": "3.11.5"
  }
 },
 "nbformat": 4,
 "nbformat_minor": 5
}
