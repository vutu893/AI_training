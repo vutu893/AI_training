{
 "cells": [
  {
   "cell_type": "markdown",
   "id": "b70ab5b9-4614-4029-89cb-88dab5efae34",
   "metadata": {},
   "source": [
    "# <center>**MATPLOTLIB AND PANDAS**</center>\n",
    "\n",
    "## **1.MATPLOTLIB**\n",
    "\n",
    "Matplotlib is a low level graph plotting library in python that serves as a visualization utility.\n",
    "\n",
    "Matplotlib was created by John D. Hunter.\n",
    "\n",
    "Matplotlib is open source and we can use it freely.\n",
    "\n",
    "Matplotlib is mostly written in python, a few segments are written in C, Objective-C and Javascript for Platform compatibility.\n",
    "\n",
    "### IMPORT AND CHECK VERSION MATPLOTLIB\n",
    "\n"
   ]
  },
  {
   "cell_type": "markdown",
   "id": "27f1d5f7-420a-4ac1-ac52-294eb93cc397",
   "metadata": {
    "tags": []
   },
   "source": [
    "import matplotlib\n",
    "\n",
    "print(matplotlib.__version__)\n"
   ]
  },
  {
   "cell_type": "code",
   "execution_count": null,
   "id": "ede27227-4a0f-4e47-a3cf-5264ed89048a",
   "metadata": {
    "tags": []
   },
   "outputs": [],
   "source": [
    "import matplotlib.pyplot as plt\n",
    "import numpy as np\n",
    "\n",
    "xpoints = np.array([0, 6])\n",
    "ypoints = np.array([0, 250])\n",
    "\n",
    "plt.plot(xpoints, ypoints)\n",
    "plt.show()"
   ]
  },
  {
   "cell_type": "markdown",
   "id": "b7c1029a-f41b-4b2f-add0-a4302d35d4a4",
   "metadata": {},
   "source": [
    "### MATPLOTLIB PLOTTING\n",
    "\n",
    "The plot() function is used to draw points (markers) in a diagram.\n",
    "\n",
    "Parameter 1 is an array containing the points on the x-axis.\n",
    "\n",
    "Parameter 2 is an array containing the points on the y-axis.\n",
    "\n",
    "If we need to plot a line from (1, 3) to (8, 10), we have to pass two arrays [1, 8] and [3, 10] to the plot function.\n",
    "\n",
    "#### PLOTTING WITHOUT LINE\n",
    "\n",
    "To plot only the markers, you can use shortcut string notation parameter 'o', which means 'rings'.\n",
    ">\n",
    "> Example:\n",
    ">"
   ]
  },
  {
   "cell_type": "code",
   "execution_count": null,
   "id": "41a7e238-34dc-4aec-890b-4229f328d665",
   "metadata": {
    "tags": []
   },
   "outputs": [],
   "source": [
    "import matplotlib.pyplot as plt\n",
    "import numpy as np\n",
    "\n",
    "xpoints = np.array([1, 8])\n",
    "ypoints = np.array([3, 10])\n",
    "\n",
    "plt.plot(xpoints, ypoints, 'o')\n",
    "plt.show()"
   ]
  },
  {
   "cell_type": "markdown",
   "id": "77f56e7f-ebc5-483a-a97f-d09d305fd025",
   "metadata": {},
   "source": [
    "### MATPLOTLIB MARKERS\n",
    "\n",
    "You can use the keyword argument marker to emphasize each point with a specified marker:\n"
   ]
  },
  {
   "cell_type": "code",
   "execution_count": null,
   "id": "7e12fd07-a499-40f5-8ad1-7176d55f8104",
   "metadata": {
    "tags": []
   },
   "outputs": [],
   "source": [
    "import matplotlib.pyplot as plt\n",
    "import numpy as np\n",
    "\n",
    "ypoints = np.array([3, 8, 1, 10])\n",
    "\n",
    "plt.plot(ypoints, marker = 'o')\n",
    "plt.show()"
   ]
  },
  {
   "cell_type": "markdown",
   "id": "677ed560-b6ce-49c0-892c-c5bce72c92ac",
   "metadata": {},
   "source": [
    "### FORMAT STRING **fmt**\n",
    "\n",
    "You can also use the shortcut string notation parameter to specify the marker.\n",
    "\n",
    "This parameter is also called fmt, and is written with this syntax.\n",
    "\n",
    "**marker|line|color**\n",
    "\n",
    "You can use the keyword argument markersize or the shorter version, ms to set the size of the markers.\n",
    "\n",
    "You can use the keyword argument markeredgecolor or the shorter mec to set the color of the edge of the markers.\n",
    "\n"
   ]
  },
  {
   "cell_type": "markdown",
   "id": "3cf48a60-a1f6-4a0a-95a6-b078a30a4e50",
   "metadata": {},
   "source": [
    "### MATPLOTLIB LINE\n",
    "\n",
    "#### Line style\n",
    "\n",
    "You can use the keyword argument linestyle, or shorter ls, to change the style of the plotted line:\n"
   ]
  },
  {
   "cell_type": "code",
   "execution_count": null,
   "id": "98d6b2ec-9bee-46cd-8ca0-d3ebbfbe9683",
   "metadata": {
    "tags": []
   },
   "outputs": [],
   "source": [
    "import matplotlib.pyplot as plt\n",
    "import numpy as np\n",
    "\n",
    "ypoints = np.array([3, 8, 1, 10])\n",
    "\n",
    "plt.plot(ypoints, linestyle = 'dotted')\n",
    "plt.show()"
   ]
  },
  {
   "cell_type": "markdown",
   "id": "5c7cf7fa-7315-4c10-935f-6cfb9a15dd75",
   "metadata": {},
   "source": [
    "#### Multi line\n",
    "\n",
    "> Example:\n",
    ">"
   ]
  },
  {
   "cell_type": "code",
   "execution_count": null,
   "id": "9e454883-4989-4358-a4bf-33233f3e5478",
   "metadata": {
    "tags": []
   },
   "outputs": [],
   "source": [
    "import matplotlib.pyplot as plt\n",
    "import numpy as np\n",
    "\n",
    "y1 = np.array([3, 8, 1, 10])\n",
    "y2 = np.array([6, 2, 7, 11])\n",
    "\n",
    "plt.plot(y1)\n",
    "plt.plot(y2)\n",
    "\n",
    "plt.show()"
   ]
  },
  {
   "cell_type": "markdown",
   "id": "9ca62a90-3adc-4766-a948-3975ef248dc0",
   "metadata": {},
   "source": [
    "### MATPLOTLIB LABELS AND TITLE\n",
    "\n",
    "#### Create labels and title for a plot\n",
    "\n",
    "With Pyplot, you can use the xlabel() and ylabel() functions to set a label for the x- and y-axis.\n",
    ">\n",
    "> Example:\n",
    ">"
   ]
  },
  {
   "cell_type": "code",
   "execution_count": null,
   "id": "9d8e882d-4629-45b1-afa1-bfa27577fc04",
   "metadata": {
    "tags": []
   },
   "outputs": [],
   "source": [
    "x = np.array([80, 85, 90, 95, 100, 105, 110, 115, 120, 125])\n",
    "y = np.array([240, 250, 260, 270, 280, 290, 300, 310, 320, 330])\n",
    "\n",
    "plt.plot(x, y)\n",
    "\n",
    "plt.xlabel(\"Average Pulse\")\n",
    "plt.ylabel(\"Calorie Burnage\")\n",
    "plt.title(\"Sports Watch Data\")\n",
    "\n",
    "plt.show()"
   ]
  },
  {
   "cell_type": "markdown",
   "id": "93cd90c6-6a45-428b-8375-4e2bb6d78d4f",
   "metadata": {},
   "source": [
    "#### Position the title\n",
    "\n",
    "You can use the loc parameter in title() to position the title.\n",
    "\n",
    "Legal values are: 'left', 'right', and 'center'. Default value is 'center'."
   ]
  },
  {
   "cell_type": "code",
   "execution_count": 7,
   "id": "bc909b79-a549-4d2c-8f8f-ae3793d03402",
   "metadata": {
    "tags": []
   },
   "outputs": [
    {
     "data": {
      "image/png": "[encoded data removed]",
      "text/plain": [
       "<Figure size 640x480 with 1 Axes>"
      ]
     },
     "metadata": {},
     "output_type": "display_data"
    }
   ],
   "source": [
    "x = np.array([80, 85, 90, 95, 100, 105, 110, 115, 120, 125])\n",
    "y = np.array([240, 250, 260, 270, 280, 290, 300, 310, 320, 330])\n",
    "\n",
    "plt.title(\"Sports Watch Data\", loc = 'right')\n",
    "plt.title(\"hello\", loc = 'center')\n",
    "plt.xlabel(\"Average Pulse\")\n",
    "plt.ylabel(\"Calorie Burnage\")\n",
    "\n",
    "plt.plot(x, y)\n",
    "plt.show()"
   ]
  },
  {
   "cell_type": "markdown",
   "id": "1dbc62f6-c43d-474f-86c5-8122cefe9879",
   "metadata": {},
   "source": [
    "### MATPLOTLIB GRID\n",
    "\n",
    "Use plt.grid() and add attribution is axis = 'x' or axis = 'y'"
   ]
  },
  {
   "cell_type": "markdown",
   "id": "eaec75f0-61b3-49c5-a895-cc0c063f35ae",
   "metadata": {},
   "source": [
    "### MATPLOTLIB SUBPLOT\n",
    "\n"
   ]
  },
  {
   "cell_type": "markdown",
   "id": "d88cc728-23d6-4df1-a4a3-97bb6f414b24",
   "metadata": {},
   "source": [
    "### MATPLOTLIB SCATTER\n",
    "\n",
    "#### Create scatter plots\n",
    "\n",
    "With Pyplot, you can use the scatter() function to draw a scatter plot.\n",
    "\n",
    "The scatter() function plots one dot for each observation. It needs two arrays of the same length, one for the values of the x-axis, and one for values on the y-axis:\n"
   ]
  },
  {
   "cell_type": "code",
   "execution_count": 8,
   "id": "eb226141-0910-4ca6-b30f-0f6f75c9c8b3",
   "metadata": {
    "tags": []
   },
   "outputs": [
    {
     "data": {
      "image/png": "[encoded data removed]",
      "text/plain": [
       "<Figure size 640x480 with 1 Axes>"
      ]
     },
     "metadata": {},
     "output_type": "display_data"
    }
   ],
   "source": [
    "x = np.array([5,7,8,7,2,17,2,9,4,11,12,9,6])\n",
    "y = np.array([99,86,87,88,111,86,103,87,94,78,77,85,86])\n",
    "\n",
    "plt.scatter(x, y)\n",
    "plt.show()"
   ]
  },
  {
   "cell_type": "markdown",
   "id": "1c3b3dc5-8787-4351-b4a9-473725e87ce1",
   "metadata": {},
   "source": [
    "### STYPE CHART\n",
    "\n",
    "1. BARS: plt.bar(arr1, arr2)\n",
    "2. HISTOGRAMS: plt.hist(array)\n",
    "3. PIE CHARTS: plt.pie(array)\n",
    ">\n",
    "> Example about draw sin, cos:\n"
   ]
  },
  {
   "cell_type": "code",
   "execution_count": 9,
   "id": "77664184-1f9c-4ec5-b9b0-7fa7bdde6eeb",
   "metadata": {
    "tags": []
   },
   "outputs": [
    {
     "data": {
      "image/png": "[encoded data removed]",
      "text/plain": [
       "<Figure size 640x480 with 2 Axes>"
      ]
     },
     "metadata": {},
     "output_type": "display_data"
    }
   ],
   "source": [
    "def f(t):\n",
    "    return np.exp(-t) * np.cos(2*np.pi*t)\n",
    "\n",
    "t1 = np.arange(0.0, 5.0, 0.1)\n",
    "t2 = np.arange(0.0, 5.0, 0.02)\n",
    "\n",
    "plt.figure()\n",
    "plt.subplot(211)\n",
    "plt.plot(t1, f(t1), 'bo', t2, f(t2), 'k')\n",
    "\n",
    "plt.subplot(212)\n",
    "plt.plot(t2, np.cos(2*np.pi*t2), 'r--')\n",
    "plt.show()"
   ]
  },
  {
   "cell_type": "markdown",
   "id": "3a115e17-06c0-4b09-ba01-cebe2eb34129",
   "metadata": {},
   "source": [
    "## **2.PANDAS TUTORIALS**"
   ]
  },
  {
   "cell_type": "markdown",
   "id": "1420bd43-c64a-4a46-9b5a-d50809b7665c",
   "metadata": {},
   "source": [
    "### Introduction\n",
    "\n",
    "Pandas is a Python library used for working with data sets.\n",
    "\n",
    "It has functions for analyzing, cleaning, exploring, and manipulating data.\n",
    "\n",
    "The name \"Pandas\" has a reference to both \"Panel Data\", and \"Python Data Analysis\" and was created by Wes McKinney in 2008."
   ]
  },
  {
   "cell_type": "code",
   "execution_count": 11,
   "id": "f1d812af-e931-4e03-bdc0-e55ce44db329",
   "metadata": {
    "tags": []
   },
   "outputs": [
    {
     "name": "stdout",
     "output_type": "stream",
     "text": [
      "    cars  passings\n",
      "0    BMW         3\n",
      "1  Volvo         7\n",
      "2   Ford         2\n"
     ]
    }
   ],
   "source": [
    "import pandas as pd\n",
    "\n",
    "mydataset = {\n",
    "  'cars': [\"BMW\", \"Volvo\", \"Ford\"],\n",
    "  'passings': [3, 7, 2]\n",
    "}\n",
    "\n",
    "myvar = pandas.DataFrame(mydataset)\n",
    "\n",
    "print(myvar)"
   ]
  },
  {
   "cell_type": "markdown",
   "id": "f5f2d0fe-4a04-4911-94de-0094dd16e682",
   "metadata": {},
   "source": [
    "### PANDAS SERIES\n",
    "\n",
    "A Pandas Series is like a column in a table.\n",
    "\n",
    "It is a one-dimensional array holding data of any type. "
   ]
  },
  {
   "cell_type": "code",
   "execution_count": 12,
   "id": "be2357b7-b8ea-408d-b56d-31ac4ab216c4",
   "metadata": {
    "tags": []
   },
   "outputs": [
    {
     "name": "stdout",
     "output_type": "stream",
     "text": [
      "0    1\n",
      "1    7\n",
      "2    2\n",
      "dtype: int64\n"
     ]
    }
   ],
   "source": [
    "a = [1, 7, 2]\n",
    "\n",
    "myvar = pd.Series(a)\n",
    "\n",
    "print(myvar)"
   ]
  },
  {
   "cell_type": "markdown",
   "id": "e5d54c2c-56f4-400b-9603-bd30363ab0ae",
   "metadata": {},
   "source": [
    "**Create labels**"
   ]
  },
  {
   "cell_type": "code",
   "execution_count": 13,
   "id": "5681a307-f9f8-40af-b5db-fd6fd70daaeb",
   "metadata": {
    "tags": []
   },
   "outputs": [
    {
     "name": "stdout",
     "output_type": "stream",
     "text": [
      "x    1\n",
      "y    7\n",
      "z    2\n",
      "dtype: int64\n"
     ]
    }
   ],
   "source": [
    "a = [1, 7, 2]\n",
    "\n",
    "myvar = pd.Series(a, index = [\"x\", \"y\", \"z\"])\n",
    "\n",
    "print(myvar)"
   ]
  },
  {
   "cell_type": "markdown",
   "id": "16e1543f-bcb0-4ff2-bfb7-5f770cd88270",
   "metadata": {},
   "source": [
    "**You can also use a key/value object, like a dictionary, when creating a Series.**\n"
   ]
  },
  {
   "cell_type": "code",
   "execution_count": 14,
   "id": "90247756-6c38-4763-bd87-be1a89250be4",
   "metadata": {
    "tags": []
   },
   "outputs": [
    {
     "name": "stdout",
     "output_type": "stream",
     "text": [
      "day1    420\n",
      "day2    380\n",
      "day3    390\n",
      "dtype: int64\n"
     ]
    }
   ],
   "source": [
    "calories = {\"day1\": 420, \"day2\": 380, \"day3\": 390}\n",
    "\n",
    "myvar = pd.Series(calories)\n",
    "\n",
    "print(myvar)"
   ]
  },
  {
   "cell_type": "markdown",
   "id": "cd21ae80-3406-47c6-af35-2abec0c55813",
   "metadata": {},
   "source": [
    "**And select some of item in object, ...**"
   ]
  },
  {
   "cell_type": "code",
   "execution_count": 15,
   "id": "ef70099c-df3a-429f-bb7f-9ad7e12f947d",
   "metadata": {
    "tags": []
   },
   "outputs": [
    {
     "name": "stdout",
     "output_type": "stream",
     "text": [
      "day1    420\n",
      "day2    380\n",
      "dtype: int64\n"
     ]
    }
   ],
   "source": [
    "calories = {\"day1\": 420, \"day2\": 380, \"day3\": 390}\n",
    "\n",
    "myvar = pd.Series(calories, index = [\"day1\", \"day2\"])\n",
    "\n",
    "print(myvar)"
   ]
  },
  {
   "cell_type": "markdown",
   "id": "9fe36341-e021-490e-b695-eb15183c7ed9",
   "metadata": {},
   "source": [
    "### DATA FRAME\n",
    "\n",
    "A Pandas DataFrame is a 2 dimensional data structure, like a 2 dimensional array, or a table with rows and columns."
   ]
  },
  {
   "cell_type": "code",
   "execution_count": 16,
   "id": "b7c4f1f9-bae1-428c-a00a-d8312ef9b585",
   "metadata": {
    "tags": []
   },
   "outputs": [
    {
     "name": "stdout",
     "output_type": "stream",
     "text": [
      "   calories  duration\n",
      "0       420        50\n",
      "1       380        40\n",
      "2       390        45\n"
     ]
    }
   ],
   "source": [
    "data = {\n",
    "  \"calories\": [420, 380, 390],\n",
    "  \"duration\": [50, 40, 45]\n",
    "}\n",
    "\n",
    "#load data into a DataFrame object:\n",
    "df = pd.DataFrame(data)\n",
    "\n",
    "print(df) "
   ]
  },
  {
   "cell_type": "markdown",
   "id": "6a46f801-93c9-4c3d-afdc-f3c16415fd65",
   "metadata": {},
   "source": [
    "With the index argument, you can name your own indexes:\n"
   ]
  },
  {
   "cell_type": "code",
   "execution_count": 18,
   "id": "07e8b0fd-1f88-43e2-aafe-10faca12661b",
   "metadata": {
    "tags": []
   },
   "outputs": [
    {
     "name": "stdout",
     "output_type": "stream",
     "text": [
      "      calories  duration\n",
      "day1       420        50\n",
      "day2       380        40\n",
      "day3       390        45\n",
      "<class 'pandas.core.frame.DataFrame'>\n"
     ]
    }
   ],
   "source": [
    "data = {\n",
    "  \"calories\": [420, 380, 390],\n",
    "  \"duration\": [50, 40, 45]\n",
    "}\n",
    "\n",
    "df = pd.DataFrame(data, index = [\"day1\", \"day2\", \"day3\"])\n",
    "\n",
    "print(df)\n",
    "print(type(df))"
   ]
  },
  {
   "cell_type": "markdown",
   "id": "3d55d9dd-a76a-4142-a8c0-709a3aa76646",
   "metadata": {},
   "source": [
    "**Use loc[index] to filter data**"
   ]
  },
  {
   "cell_type": "code",
   "execution_count": 19,
   "id": "9e166fe4-1032-4e68-90e1-6a6db919483f",
   "metadata": {
    "tags": []
   },
   "outputs": [
    {
     "name": "stdout",
     "output_type": "stream",
     "text": [
      "calories    380\n",
      "duration     40\n",
      "Name: day2, dtype: int64\n"
     ]
    }
   ],
   "source": [
    "print(df.loc[\"day2\"])"
   ]
  },
  {
   "cell_type": "markdown",
   "id": "0cf1e4e6-902e-4506-8f5e-f0c232db5acd",
   "metadata": {},
   "source": [
    "### PANDAS READ CSV\n",
    "\n",
    "Simple way to store big data sets is to use CSV files (comma separated files).\n",
    "\n",
    "CSV files contains plain text and is a well know format that can be read by everyone including Pandas.\n",
    "\n",
    "In our examples we will be using a CSV file called 'data.csv'."
   ]
  },
  {
   "cell_type": "markdown",
   "id": "04137f9d-5192-4230-a4a5-4f5fb5d4fcc6",
   "metadata": {
    "tags": []
   },
   "source": [
    "df = pd.read_csv('data.csv')\n",
    "\n",
    "print(df.to_string()) \n",
    "#to_string to read entire data"
   ]
  },
  {
   "cell_type": "markdown",
   "id": "6687ac40-f5bb-45e0-b714-04448670030f",
   "metadata": {},
   "source": [
    "### PANDAS READ JSON\n",
    "\n"
   ]
  },
  {
   "cell_type": "markdown",
   "id": "3dd37d47-8eff-4481-8748-b91b031a8630",
   "metadata": {
    "tags": []
   },
   "source": [
    "data = {\n",
    "  \"Duration\":{\n",
    "    \"0\":60,\n",
    "    \"1\":60,\n",
    "    \"2\":60,\n",
    "    \"3\":45,\n",
    "    \"4\":45,\n",
    "    \"5\":60\n",
    "  },\n",
    "  \"Pulse\":{\n",
    "    \"0\":110,\n",
    "    \"1\":117,\n",
    "    \"2\":103,\n",
    "    \"3\":109,\n",
    "    \"4\":117,\n",
    "    \"5\":102\n",
    "  },\n",
    "  \"Maxpulse\":{\n",
    "    \"0\":130,\n",
    "    \"1\":145,\n",
    "    \"2\":135,\n",
    "    \"3\":175,\n",
    "    \"4\":148,\n",
    "    \"5\":127\n",
    "  },\n",
    "  \"Calories\":{\n",
    "    \"0\":409,\n",
    "    \"1\":479,\n",
    "    \"2\":340,\n",
    "    \"3\":282,\n",
    "    \"4\":406,\n",
    "    \"5\":300\n",
    "  }\n",
    "}\n",
    "\n",
    "df = pd.DataFrame(data)\n",
    "\n",
    "print(df) "
   ]
  },
  {
   "cell_type": "markdown",
   "id": "de68d767-2186-4799-95bd-933c3ddbb8f0",
   "metadata": {},
   "source": [
    "## **3.CLEANING DATA**"
   ]
  },
  {
   "cell_type": "markdown",
   "id": "162dba11-af11-48cb-9ab8-4d7536e89518",
   "metadata": {
    "tags": []
   },
   "source": [
    "Data cleaning means fixing bad data in your data set.\n",
    "\n",
    "Bad data could be:\n",
    "\n",
    "1. Empty cells\n",
    "2. Data in wrong format\n",
    "3. Wrong data\n",
    "4. Duplicates\n",
    "In this tutorial you will learn how to deal with all of them.\n",
    "\n"
   ]
  },
  {
   "cell_type": "markdown",
   "id": "ff8ea2c4-7150-4e36-9be8-9f1c1ae2744e",
   "metadata": {},
   "source": [
    "#### EMPTY CELLS\n",
    "\n",
    "Empty cells can potentially give you a wrong result when you analyze data.\n",
    "\n",
    "One way to deal with empty cells is to remove rows that contain empty cells.\n",
    "\n",
    "This is usually OK, since data sets can be very big, and removing a few rows will not have a big impact on the result."
   ]
  },
  {
   "cell_type": "code",
   "execution_count": null,
   "id": "b5bb924e-d301-4262-9126-8dbeb17729e3",
   "metadata": {},
   "outputs": [],
   "source": [
    "df = pd.read_csv('data.csv')\n",
    "\n",
    "new_df = df.dropna()\n",
    "\n",
    "print(new_df.to_string())"
   ]
  },
  {
   "cell_type": "markdown",
   "id": "c145c125-9bdd-47b1-8686-949acb45e2bf",
   "metadata": {},
   "source": [
    "Another way of dealing with empty cells is to insert a new value instead.\n",
    "\n",
    "This way you do not have to delete entire rows just because of some empty cells.\n",
    "\n",
    "The fillna() method allows us to replace empty cells with a value:\n"
   ]
  },
  {
   "cell_type": "code",
   "execution_count": null,
   "id": "0744557f-a4b9-40e0-9b6a-eb7898df80fa",
   "metadata": {
    "tags": []
   },
   "outputs": [],
   "source": [
    "df = pd.read_csv('data.csv')\n",
    "\n",
    "df.fillna(130, inplace = True)"
   ]
  },
  {
   "cell_type": "markdown",
   "id": "408b8201-baad-4da1-87a4-abd9d10306a0",
   "metadata": {},
   "source": [
    "**Replace using mean, median and mode**\n",
    "\n",
    "A common way to replace empty cells, is to calculate the mean, median or mode value of the column.\n",
    "\n",
    "Pandas uses the mean() median() and mode() methods to calculate the respective values for a specified column:\n",
    "\n"
   ]
  },
  {
   "cell_type": "markdown",
   "id": "3c03c8e0-9f9c-45b0-bc9e-cd8e9a928dfb",
   "metadata": {},
   "source": [
    "#### **CLEANING DATA OF WRONG FORMAT**\n"
   ]
  },
  {
   "cell_type": "code",
   "execution_count": null,
   "id": "5f55b3bd-204f-4973-b442-680203af684b",
   "metadata": {},
   "outputs": [],
   "source": []
  }
 ],
 "metadata": {
  "kernelspec": {
   "display_name": "Python 3 (ipykernel)",
   "language": "python",
   "name": "python3"
  },
  "language_info": {
   "codemirror_mode": {
    "name": "ipython",
    "version": 3
   },
   "file_extension": ".py",
   "mimetype": "text/x-python",
   "name": "python",
   "nbconvert_exporter": "python",
   "pygments_lexer": "ipython3",
   "version": "3.11.5"
  }
 },
 "nbformat": 4,
 "nbformat_minor": 5
}
