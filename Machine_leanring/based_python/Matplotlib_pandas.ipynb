{
 "cells": [
  {
   "cell_type": "markdown",
   "id": "b70ab5b9-4614-4029-89cb-88dab5efae34",
   "metadata": {},
   "source": [
    "# <center>**MATPLOTLIB AND PANDAS**</center>\n",
    "\n",
    "## **1.MATPLOTLIB**\n",
    "\n",
    "Matplotlib is a low level graph plotting library in python that serves as a visualization utility.\n",
    "\n",
    "Matplotlib was created by John D. Hunter.\n",
    "\n",
    "Matplotlib is open source and we can use it freely.\n",
    "\n",
    "Matplotlib is mostly written in python, a few segments are written in C, Objective-C and Javascript for Platform compatibility.\n",
    "\n",
    "### IMPORT AND CHECK VERSION MATPLOTLIB\n",
    "\n"
   ]
  },
  {
   "cell_type": "markdown",
   "id": "27f1d5f7-420a-4ac1-ac52-294eb93cc397",
   "metadata": {
    "tags": []
   },
   "source": [
    "import matplotlib\n",
    "\n",
    "print(matplotlib.__version__)\n"
   ]
  },
  {
   "cell_type": "code",
   "execution_count": null,
   "id": "ede27227-4a0f-4e47-a3cf-5264ed89048a",
   "metadata": {
    "tags": []
   },
   "outputs": [],
   "source": [
    "import matplotlib.pyplot as plt\n",
    "import numpy as np\n",
    "\n",
    "xpoints = np.array([0, 6])\n",
    "ypoints = np.array([0, 250])\n",
    "\n",
    "plt.plot(xpoints, ypoints)\n",
    "plt.show()"
   ]
  },
  {
   "cell_type": "markdown",
   "id": "b7c1029a-f41b-4b2f-add0-a4302d35d4a4",
   "metadata": {},
   "source": [
    "### MATPLOTLIB PLOTTING\n",
    "\n",
    "The plot() function is used to draw points (markers) in a diagram.\n",
    "\n",
    "Parameter 1 is an array containing the points on the x-axis.\n",
    "\n",
    "Parameter 2 is an array containing the points on the y-axis.\n",
    "\n",
    "If we need to plot a line from (1, 3) to (8, 10), we have to pass two arrays [1, 8] and [3, 10] to the plot function.\n",
    "\n",
    "#### PLOTTING WITHOUT LINE\n",
    "\n",
    "To plot only the markers, you can use shortcut string notation parameter 'o', which means 'rings'.\n",
    ">\n",
    "> Example:\n",
    ">"
   ]
  },
  {
   "cell_type": "code",
   "execution_count": null,
   "id": "41a7e238-34dc-4aec-890b-4229f328d665",
   "metadata": {
    "tags": []
   },
   "outputs": [],
   "source": [
    "import matplotlib.pyplot as plt\n",
    "import numpy as np\n",
    "\n",
    "xpoints = np.array([1, 8])\n",
    "ypoints = np.array([3, 10])\n",
    "\n",
    "plt.plot(xpoints, ypoints, 'o')\n",
    "plt.show()"
   ]
  },
  {
   "cell_type": "markdown",
   "id": "77f56e7f-ebc5-483a-a97f-d09d305fd025",
   "metadata": {},
   "source": [
    "### MATPLOTLIB MARKERS\n",
    "\n",
    "You can use the keyword argument marker to emphasize each point with a specified marker:\n"
   ]
  },
  {
   "cell_type": "code",
   "execution_count": null,
   "id": "7e12fd07-a499-40f5-8ad1-7176d55f8104",
   "metadata": {
    "tags": []
   },
   "outputs": [],
   "source": [
    "import matplotlib.pyplot as plt\n",
    "import numpy as np\n",
    "\n",
    "ypoints = np.array([3, 8, 1, 10])\n",
    "\n",
    "plt.plot(ypoints, marker = 'o')\n",
    "plt.show()"
   ]
  },
  {
   "cell_type": "markdown",
   "id": "677ed560-b6ce-49c0-892c-c5bce72c92ac",
   "metadata": {},
   "source": [
    "### FORMAT STRING **fmt**\n",
    "\n",
    "You can also use the shortcut string notation parameter to specify the marker.\n",
    "\n",
    "This parameter is also called fmt, and is written with this syntax.\n",
    "\n",
    "**marker|line|color**\n",
    "\n",
    "You can use the keyword argument markersize or the shorter version, ms to set the size of the markers.\n",
    "\n",
    "You can use the keyword argument markeredgecolor or the shorter mec to set the color of the edge of the markers.\n",
    "\n"
   ]
  },
  {
   "cell_type": "code",
   "execution_count": null,
   "id": "7f7537f8-ee67-4477-95af-089d7b60fc33",
   "metadata": {},
   "outputs": [],
   "source": []
  }
 ],
 "metadata": {
  "kernelspec": {
   "display_name": "Python 3 (ipykernel)",
   "language": "python",
   "name": "python3"
  },
  "language_info": {
   "codemirror_mode": {
    "name": "ipython",
    "version": 3
   },
   "file_extension": ".py",
   "mimetype": "text/x-python",
   "name": "python",
   "nbconvert_exporter": "python",
   "pygments_lexer": "ipython3",
   "version": "3.11.5"
  }
 },
 "nbformat": 4,
 "nbformat_minor": 5
}
