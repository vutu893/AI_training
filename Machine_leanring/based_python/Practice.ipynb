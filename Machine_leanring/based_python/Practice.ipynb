{
 "cells": [
  {
   "cell_type": "markdown",
   "id": "e003157e-f61d-49f5-8e80-b2a54bbf87a4",
   "metadata": {},
   "source": [
    "# <center>Practice about NumPy, Pandas, Mathpolot and Data analysis</center>"
   ]
  },
  {
   "cell_type": "code",
   "execution_count": null,
   "id": "7b32ddc6-b1af-441a-b1a4-cf659225e15c",
   "metadata": {},
   "outputs": [],
   "source": []
  }
 ],
 "metadata": {
  "kernelspec": {
   "display_name": "Python 3 (ipykernel)",
   "language": "python",
   "name": "python3"
  },
  "language_info": {
   "codemirror_mode": {
    "name": "ipython",
    "version": 3
   },
   "file_extension": ".py",
   "mimetype": "text/x-python",
   "name": "python",
   "nbconvert_exporter": "python",
   "pygments_lexer": "ipython3",
   "version": "3.11.5"
  }
 },
 "nbformat": 4,
 "nbformat_minor": 5
}
