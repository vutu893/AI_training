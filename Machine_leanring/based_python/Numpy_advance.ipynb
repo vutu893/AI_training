{
 "cells": [
  {
   "cell_type": "markdown",
   "id": "13311fc2-04b6-4986-bc0b-a4198fdba846",
   "metadata": {},
   "source": [
    "# <center>NUMPY ADVANCE</center>"
   ]
  },
  {
   "cell_type": "markdown",
   "id": "3b736a12-efd1-4a03-a48b-9c58662e7a4d",
   "metadata": {},
   "source": [
    "\n",
    "# NUMPY RANDOM\n",
    "\n",
    "## GENERATE RANDOM NUMBER\n",
    "\n",
    "> Use randint() and module random in library numpy\n",
    ">\n",
    "> Example:\n",
    ">\n",
    "> Generate a random integer from 0 to 100:\n",
    ">"
   ]
  },
  {
   "cell_type": "code",
   "execution_count": 1,
   "id": "991ca65b-02bc-4bc2-a924-5b235a866def",
   "metadata": {
    "tags": []
   },
   "outputs": [
    {
     "name": "stdout",
     "output_type": "stream",
     "text": [
      "93\n",
      "0.5668369802997216\n"
     ]
    }
   ],
   "source": [
    "from numpy import random\n",
    "\n",
    "x = random.randint(100)\n",
    "\n",
    "print(x)\n",
    "\n",
    "#The random module's rand() method returns a random float between 0 and 1.\n",
    "\n",
    "y = random.rand()\n",
    "\n",
    "print(y)"
   ]
  },
  {
   "cell_type": "markdown",
   "id": "e56dccea-c601-43dd-baf6-e81afa28afd6",
   "metadata": {},
   "source": [
    "## GENERATE RANDOM ARRAY\n",
    "\n",
    "> Use randint and attribute size\n",
    ">"
   ]
  },
  {
   "cell_type": "code",
   "execution_count": null,
   "id": "07b3258c-3b33-42c5-9e3f-2bc3b5927022",
   "metadata": {
    "tags": []
   },
   "outputs": [],
   "source": [
    "x=random.randint(100, size=(5))\n",
    "\n",
    "print(x)\n",
    "\n",
    "#Or generate array 2-D\n",
    "y = random.randint(100, size=(2, 4,1))\n",
    "\n",
    "print(y)\n",
    "#Or generate array have float\n",
    "z = random.rand(5)\n",
    "t = random.rand(2, 3)\n",
    "\n",
    "print(z)\n",
    "print(t)"
   ]
  },
  {
   "cell_type": "markdown",
   "id": "6723e5fb-e648-43e4-b602-fa54e851a457",
   "metadata": {},
   "source": [
    "## RANDOM NUMBER FROM AN ARRAY\n",
    " \n",
    "> Use choie()\n",
    "> "
   ]
  },
  {
   "cell_type": "code",
   "execution_count": 11,
   "id": "ff9a905d-e8df-461d-aaf0-9beaaa894682",
   "metadata": {
    "tags": []
   },
   "outputs": [
    {
     "name": "stdout",
     "output_type": "stream",
     "text": [
      "7\n",
      "[[9 3 3 9 5]\n",
      " [7 3 7 5 9]\n",
      " [5 9 3 7 7]]\n"
     ]
    }
   ],
   "source": [
    "x = random.choice([3, 5, 7, 9])\n",
    "\n",
    "print(x)\n",
    "\n",
    "#or add parameter size => generate new array from ele in an array\n",
    "y = random.choice([3, 5, 7, 9], size=(3, 5))\n",
    "\n",
    "print(y)"
   ]
  },
  {
   "cell_type": "markdown",
   "id": "0610f240-9b69-4fa2-aa11-7f75065506d8",
   "metadata": {},
   "source": [
    "## DATA DISTRIBUTION\n",
    "\n",
    "Data Distribution is a list of all possible values, and how often each value occurs.\n",
    "\n",
    "Such lists are important when working with statistics and data science.\n",
    "\n",
    "The random module offer methods that returns randomly generated data distributions.\n",
    "\n",
    "## RANDOM DISTRIBUTION\n",
    ">\n",
    ">Example: generate a random array with frequency of element appear\n",
    ">"
   ]
  },
  {
   "cell_type": "code",
   "execution_count": 3,
   "id": "59d79527-347f-4a6d-82fe-dac701edd5f3",
   "metadata": {
    "tags": []
   },
   "outputs": [
    {
     "name": "stdout",
     "output_type": "stream",
     "text": [
      "100\n",
      "[5 7 3 5 7 7 5 7 3 3 7 5 5 7 7 7 3 3 7 3 7 7 5 7 5 7 7 7 5 3 7 7 5 7 7 7 5\n",
      " 7 7 3 7 7 7 7 7 7 7 7 7 5 7 5 7 7 7 7 7 5 5 5 5 7 7 7 7 5 7 7 7 5 5 7 5 7\n",
      " 5 7 7 7 7 7 7 7 7 3 7 7 7 3 5 5 7 7 7 7 7 7 7 7 5 7]\n"
     ]
    }
   ],
   "source": [
    "x = random.choice([3, 5, 7, 9], p=[0.1, 0.3, 0.6, 0.0], size=(100))\n",
    "\n",
    "print(len(x))\n",
    "print(x)"
   ]
  },
  {
   "cell_type": "markdown",
   "id": "cb9c40c3-6208-49c7-8099-571ab4a18888",
   "metadata": {},
   "source": [
    "\n",
    "## RANDOM PERMUTATIONS\n",
    "\n",
    "\n",
    "A permutation refers to an arrangement of elements. e.g. [3, 2, 1] is a permutation of [1, 2, 3] and vice-versa.\n",
    "\n",
    "The NumPy Random module provides two methods for this: shuffle() and permutation().\n",
    "\n",
    ">\n",
    "> Shuffling Arrays\n",
    "> Shuffle means changing arrangement of elements in-place. i.e. in the array itself => random\n",
    ">\n",
    "> Example:"
   ]
  },
  {
   "cell_type": "code",
   "execution_count": 5,
   "id": "35deab42-776a-4c25-ac50-ae3f41d5a3ee",
   "metadata": {
    "tags": []
   },
   "outputs": [
    {
     "name": "stdout",
     "output_type": "stream",
     "text": [
      "[4 2 1 3 5]\n"
     ]
    }
   ],
   "source": [
    "from numpy import random\n",
    "import numpy as np\n",
    "\n",
    "arr = np.array([1, 2, 3, 4, 5])\n",
    "\n",
    "random.shuffle(arr)\n",
    "\n",
    "print(arr)"
   ]
  },
  {
   "cell_type": "markdown",
   "id": "d49b01b6-1111-455b-b009-f91f6c2fa5bf",
   "metadata": {},
   "source": [
    "> use permutation(): generate a random permutation of elements of following array:"
   ]
  },
  {
   "cell_type": "code",
   "execution_count": null,
   "id": "19ebf93d-4b03-4d5e-af7f-183e45360604",
   "metadata": {
    "tags": []
   },
   "outputs": [],
   "source": [
    "arr = np.array([1, 2, 3, 4, 5])\n",
    "\n",
    "print(random.permutation(arr))"
   ]
  },
  {
   "cell_type": "markdown",
   "id": "880e75b6-fd26-4bcf-abce-7d51455ed4e2",
   "metadata": {},
   "source": [
    "## SEABORN\n",
    "\n",
    "Visualize Distributions With Seaborn\n",
    "\n",
    "Seaborn is a library that uses Matplotlib underneath to plot graphs. It will be used to visualize random distributions.\n",
    "\n",
    "## DISPLOT\n",
    "\n",
    "> Plotting a displot\n",
    ">\n",
    "> Example:\n",
    ">"
   ]
  },
  {
   "cell_type": "markdown",
   "id": "0b913842-83ec-4b24-bb8b-7b218f1eb9d8",
   "metadata": {
    "tags": []
   },
   "source": [
    "import matplotlib.pyplot as plt\n",
    "import seaborn as sns\n",
    "\n",
    "sns.distplot([0, 1, 2, 3, 4, 5])\n",
    "\n",
    "plt.show()"
   ]
  },
  {
   "cell_type": "markdown",
   "id": "3b1b8207-592c-4bc6-b2d5-99e4cff807c6",
   "metadata": {},
   "source": [
    "## DISTRIBUTION RANDOM\n",
    "\n",
    "1. NORMAL DISTRIBUTION\n",
    "2. BINOMIAL DISTRIBUTION\n",
    "3. POISSON DISTRIBUTION\n",
    "4. UNIFORM DISTRIBUTION\n",
    "5. LOGISTIC DISTRIBUTION\n",
    "6. MULTINOMIAL DISTRIBUTION\n",
    "7. EXPONENTIAL DISTRIBUTION\n",
    "8. CHI SQUARE DISTRIBUTION\n",
    "9. RAYLEIGH DISTRIBUTION\n",
    "10. PARETO DISTRIBUTION\n",
    "11. ZIPF DISTRIBUTION"
   ]
  },
  {
   "cell_type": "markdown",
   "id": "f74f56e9-348a-4319-a068-036f27f9637e",
   "metadata": {},
   "source": [
    "\n",
    "### NORMAL DISTRIBUTION\n",
    "\n",
    "The Normal Distribution is one of the most important distributions.\n",
    "\n",
    "It fits the probability distribution of many events, eg. IQ Scores, Heartbeat etc.\n",
    "\n",
    "Use the random.normal() method to get a Normal Data Distribution.\n",
    "\n",
    "It has three parameters:\n",
    "\n",
    "loc - (Mean) where the peak of the bell exists.\n",
    "\n",
    "scale - (Standard Deviation) how flat the graph distribution should be.\n",
    "\n",
    "size - The shape of the returned array.\n"
   ]
  },
  {
   "cell_type": "code",
   "execution_count": null,
   "id": "b5d86621-97ec-4ffe-8a6d-b6145172c1d5",
   "metadata": {
    "tags": []
   },
   "outputs": [],
   "source": [
    "from numpy import random\n",
    "import matplotlib.pyplot as plt\n",
    "import seaborn as sns\n",
    "\n",
    "x = random.normal(loc=1, scale=2, size=(2, 3))\n",
    "\n",
    "print(x)\n",
    "\n",
    "sns.distplot(x, hist = False)"
   ]
  },
  {
   "cell_type": "markdown",
   "id": "655ab986-19b6-4f98-ba28-ee838ad682b8",
   "metadata": {},
   "source": [
    "\n",
    "### BINOMIAL DISTRIBUTION\n",
    "\n",
    "Binomial Distribution is a Discrete Distribution.\n",
    "\n",
    "It describes the outcome of binary scenarios, e.g. toss of a coin, it will either be head or tails.\n",
    "\n",
    "It has three parameters:\n",
    "\n",
    "n - number of trials.\n",
    "\n",
    "p - probability of occurence of each trial (e.g. for toss of a coin 0.5 each).\n",
    "\n",
    "size - The shape of the returned array.\n",
    "\n",
    "> Example:\n",
    ">"
   ]
  },
  {
   "cell_type": "code",
   "execution_count": null,
   "id": "374767b4-798f-4a58-992b-d3e24999304c",
   "metadata": {
    "tags": []
   },
   "outputs": [],
   "source": [
    "from numpy import random\n",
    "import matplotlib.pyplot as plt\n",
    "import seaborn as sns\n",
    "\n",
    "sns.distplot([1, 2, 3, 4, 6,7, 8, 9, 0], hist=True, kde=False)\n",
    "\n",
    "plt.show()"
   ]
  },
  {
   "cell_type": "markdown",
   "id": "ee3dda97-b845-440a-848f-77c9b1eb845f",
   "metadata": {},
   "source": [
    "**The main difference is that normal distribution is continous whereas binomial is discrete**"
   ]
  },
  {
   "cell_type": "markdown",
   "id": "b594d387-55b6-4045-9291-059b91bf1b46",
   "metadata": {},
   "source": [
    "\n",
    "### POISSON DISTRIBUTION\n",
    "\n",
    "Poisson Distribution is a Discrete Distribution.\n",
    "\n",
    "It estimates how many times an event can happen in a specified time. e.g. If someone eats twice a day what is the probability he will eat thrice?\n",
    "\n",
    "It has two parameters:\n",
    "\n",
    "lam - rate or known number of occurrences e.g. 2 for above problem.\n",
    "\n",
    "size - The shape of the returned array."
   ]
  },
  {
   "cell_type": "code",
   "execution_count": null,
   "id": "97669f23-7a22-4fd6-87d6-4a48d94f74fc",
   "metadata": {
    "tags": []
   },
   "outputs": [],
   "source": [
    "from numpy import random\n",
    "\n",
    "x = random.poisson(lam=3, size=10)\n",
    "\n",
    "sns.distplot(random.poisson(lam=2, size=100), kde=False)\n",
    "\n",
    "plt.show()\n",
    "print(x)"
   ]
  },
  {
   "cell_type": "markdown",
   "id": "44785b8b-fe8f-4508-a893-eb94090e6a9a",
   "metadata": {},
   "source": [
    "\n",
    "### UNIFORM DISTRIBUTION\n",
    "\n",
    "Used to describe probability where every event has equal chances of occuring.\n",
    "\n",
    "E.g. Generation of random numbers.\n",
    "\n",
    "It has three parameters:\n",
    "\n",
    "a - lower bound - default 0 .0.\n",
    "\n",
    "b - upper bound - default 1.0.\n",
    "\n",
    "size - The shape of the returned array.\n",
    "\n"
   ]
  },
  {
   "cell_type": "code",
   "execution_count": null,
   "id": "7ab87b32-cf54-471e-ad7a-7b4a96aa5169",
   "metadata": {
    "tags": []
   },
   "outputs": [],
   "source": [
    "sns.distplot(random.uniform(size=1000), hist=False)\n",
    "\n",
    "plt.show()"
   ]
  },
  {
   "cell_type": "markdown",
   "id": "ad81ddef-b553-46ee-8d2b-5262378760c9",
   "metadata": {},
   "source": [
    "\n",
    "### LOGISTIC DISTRIBUTION\n",
    "\n",
    "Logistic Distribution is used to describe growth.\n",
    "\n",
    "Used extensively in machine learning in logistic regression, neural networks etc.\n",
    "\n",
    "It has three parameters:\n",
    "\n",
    "loc - mean, where the peak is. Default 0.\n",
    "\n",
    "scale - standard deviation, the flatness of distribution. Default 1.\n",
    "\n",
    "size - The shape of the returned array."
   ]
  },
  {
   "cell_type": "code",
   "execution_count": null,
   "id": "e225f5da-fa67-403e-8e50-ee7b90a49c12",
   "metadata": {
    "tags": []
   },
   "outputs": [],
   "source": [
    "sns.distplot(random.logistic(size=1000), hist=False)\n",
    "\n",
    "plt.show()"
   ]
  },
  {
   "cell_type": "markdown",
   "id": "63bb63c6-e765-4b3e-9e4b-1106c7777eaf",
   "metadata": {},
   "source": [
    "\n",
    "## NUMPY UFUNC\n",
    "\n",
    "ufuncs stands for \"Universal Functions\" and they are NumPy functions that operate on the ndarray object\n",
    "\n",
    "### CREATE YOUR OWN UFUNC\n",
    "\n",
    "To create your own ufunc, you have to define a function, like you do with normal functions in Python, then you add it to your NumPy ufunc library with the frompyfunc() method.\n",
    "\n",
    "The frompyfunc() method takes the following arguments:\n",
    "\n",
    "1. function - the name of the function.\n",
    "2. inputs - the number of input arguments (arrays).\n",
    "3. outputs - the number of output arrays."
   ]
  },
  {
   "cell_type": "code",
   "execution_count": 17,
   "id": "d5069826-64bd-4f33-8e1c-eae4e925c66c",
   "metadata": {
    "tags": []
   },
   "outputs": [
    {
     "name": "stdout",
     "output_type": "stream",
     "text": [
      "[6 8 10 12]\n",
      "<class 'numpy.ufunc'>\n"
     ]
    }
   ],
   "source": [
    "import numpy as np\n",
    "\n",
    "def myadd(x, y):\n",
    "  return x+y\n",
    "\n",
    "myadd = np.frompyfunc(myadd, 2, 1)\n",
    "\n",
    "print(myadd([1, 2, 3, 4], [5, 6, 7, 8]))\n",
    "print(type(np.add))"
   ]
  },
  {
   "cell_type": "markdown",
   "id": "73b26103-5750-4871-9890-3255c55eeefb",
   "metadata": {},
   "source": [
    "### UFUNC SIMPLE ARITHMETIC\n",
    "1. **Addition: np.add(np1, np2)**\n",
    "2. **Subtraction: np.subtract(np1, np2)**\n",
    "3. **Multiplication: np.multiply(np1, np2)**\n",
    "4. **Division: np.divide(np1,np2)**\n",
    "5. **Remaider: np.mod(np1, np2)**\n",
    "6. **Quotient and remainder:np.divmod(np1, np2)**\n",
    "7. **Absolute values: np.absolute(np1)**"
   ]
  },
  {
   "cell_type": "code",
   "execution_count": 19,
   "id": "f90f0d04-6df6-4500-a54a-b7e7227066d6",
   "metadata": {
    "tags": []
   },
   "outputs": [
    {
     "name": "stdout",
     "output_type": "stream",
     "text": [
      "(array([ 3,  2,  3,  5, 25,  1]), array([ 1,  6,  3,  0,  0, 27]))\n",
      "<class 'tuple'>\n"
     ]
    }
   ],
   "source": [
    "import numpy as np\n",
    "\n",
    "arr1 = np.array([10, 20, 30, 40, 50, 60])\n",
    "arr2 = np.array([3, 7, 9, 8, 2, 33])\n",
    "\n",
    "newarr = np.divmod(arr1, arr2)\n",
    "\n",
    "print(newarr)\n",
    "print(type(newarr))"
   ]
  },
  {
   "cell_type": "code",
   "execution_count": null,
   "id": "7340b172-78db-4ec0-a8c6-a324d1daf489",
   "metadata": {},
   "outputs": [],
   "source": []
  }
 ],
 "metadata": {
  "kernelspec": {
   "display_name": "Python 3 (ipykernel)",
   "language": "python",
   "name": "python3"
  },
  "language_info": {
   "codemirror_mode": {
    "name": "ipython",
    "version": 3
   },
   "file_extension": ".py",
   "mimetype": "text/x-python",
   "name": "python",
   "nbconvert_exporter": "python",
   "pygments_lexer": "ipython3",
   "version": "3.11.5"
  }
 },
 "nbformat": 4,
 "nbformat_minor": 5
}
