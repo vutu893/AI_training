{
 "cells": [
  {
   "cell_type": "markdown",
   "id": "13311fc2-04b6-4986-bc0b-a4198fdba846",
   "metadata": {},
   "source": [
    "# <center>NUMPY ADVANCE</center>"
   ]
  },
  {
   "cell_type": "markdown",
   "id": "3b736a12-efd1-4a03-a48b-9c58662e7a4d",
   "metadata": {},
   "source": [
    "\n",
    "# NUMPY RANDOM\n",
    "\n",
    "## GENERATE RANDOM NUMBER\n",
    "\n",
    "> Use randint() and module random in library numpy\n",
    ">\n",
    "> Example:\n",
    ">\n",
    "> Generate a random integer from 0 to 100:\n",
    ">"
   ]
  },
  {
   "cell_type": "code",
   "execution_count": 1,
   "id": "991ca65b-02bc-4bc2-a924-5b235a866def",
   "metadata": {
    "tags": []
   },
   "outputs": [
    {
     "name": "stdout",
     "output_type": "stream",
     "text": [
      "93\n",
      "0.5668369802997216\n"
     ]
    }
   ],
   "source": [
    "from numpy import random\n",
    "\n",
    "x = random.randint(100)\n",
    "\n",
    "print(x)\n",
    "\n",
    "#The random module's rand() method returns a random float between 0 and 1.\n",
    "\n",
    "y = random.rand()\n",
    "\n",
    "print(y)"
   ]
  },
  {
   "cell_type": "markdown",
   "id": "e56dccea-c601-43dd-baf6-e81afa28afd6",
   "metadata": {},
   "source": [
    "## GENERATE RANDOM ARRAY\n",
    "\n",
    "> Use randint and attribute size\n",
    ">"
   ]
  },
  {
   "cell_type": "code",
   "execution_count": null,
   "id": "07b3258c-3b33-42c5-9e3f-2bc3b5927022",
   "metadata": {
    "tags": []
   },
   "outputs": [],
   "source": [
    "x=random.randint(100, size=(5))\n",
    "\n",
    "print(x)\n",
    "\n",
    "#Or generate array 2-D\n",
    "y = random.randint(100, size=(2, 4,1))\n",
    "\n",
    "print(y)\n",
    "#Or generate array have float\n",
    "z = random.rand(5)\n",
    "t = random.rand(2, 3)\n",
    "\n",
    "print(z)\n",
    "print(t)"
   ]
  },
  {
   "cell_type": "markdown",
   "id": "6723e5fb-e648-43e4-b602-fa54e851a457",
   "metadata": {},
   "source": [
    "## RANDOM NUMBER FROM AN ARRAY\n",
    " \n",
    "> Use choie()\n",
    "> "
   ]
  },
  {
   "cell_type": "code",
   "execution_count": 11,
   "id": "ff9a905d-e8df-461d-aaf0-9beaaa894682",
   "metadata": {
    "tags": []
   },
   "outputs": [
    {
     "name": "stdout",
     "output_type": "stream",
     "text": [
      "7\n",
      "[[9 3 3 9 5]\n",
      " [7 3 7 5 9]\n",
      " [5 9 3 7 7]]\n"
     ]
    }
   ],
   "source": [
    "x = random.choice([3, 5, 7, 9])\n",
    "\n",
    "print(x)\n",
    "\n",
    "#or add parameter size => generate new array from ele in an array\n",
    "y = random.choice([3, 5, 7, 9], size=(3, 5))\n",
    "\n",
    "print(y)"
   ]
  },
  {
   "cell_type": "markdown",
   "id": "0610f240-9b69-4fa2-aa11-7f75065506d8",
   "metadata": {},
   "source": [
    "## DATA DISTRIBUTION\n",
    "\n",
    "Data Distribution is a list of all possible values, and how often each value occurs.\n",
    "\n",
    "Such lists are important when working with statistics and data science.\n",
    "\n",
    "The random module offer methods that returns randomly generated data distributions.\n",
    "\n",
    "## RANDOM DISTRIBUTION\n",
    ">\n",
    ">Example: generate a random array with frequency of element appear\n",
    ">"
   ]
  },
  {
   "cell_type": "code",
   "execution_count": 3,
   "id": "59d79527-347f-4a6d-82fe-dac701edd5f3",
   "metadata": {
    "tags": []
   },
   "outputs": [
    {
     "name": "stdout",
     "output_type": "stream",
     "text": [
      "100\n",
      "[5 7 3 5 7 7 5 7 3 3 7 5 5 7 7 7 3 3 7 3 7 7 5 7 5 7 7 7 5 3 7 7 5 7 7 7 5\n",
      " 7 7 3 7 7 7 7 7 7 7 7 7 5 7 5 7 7 7 7 7 5 5 5 5 7 7 7 7 5 7 7 7 5 5 7 5 7\n",
      " 5 7 7 7 7 7 7 7 7 3 7 7 7 3 5 5 7 7 7 7 7 7 7 7 5 7]\n"
     ]
    }
   ],
   "source": [
    "x = random.choice([3, 5, 7, 9], p=[0.1, 0.3, 0.6, 0.0], size=(100))\n",
    "\n",
    "print(len(x))\n",
    "print(x)"
   ]
  },
  {
   "cell_type": "markdown",
   "id": "cb9c40c3-6208-49c7-8099-571ab4a18888",
   "metadata": {},
   "source": [
    "\n",
    "## RANDOM PERMUTATIONS\n",
    "\n",
    "\n",
    "A permutation refers to an arrangement of elements. e.g. [3, 2, 1] is a permutation of [1, 2, 3] and vice-versa.\n",
    "\n",
    "The NumPy Random module provides two methods for this: shuffle() and permutation().\n",
    "\n",
    ">\n",
    "> Shuffling Arrays\n",
    "> Shuffle means changing arrangement of elements in-place. i.e. in the array itself => random\n",
    ">\n",
    "> Example:"
   ]
  },
  {
   "cell_type": "code",
   "execution_count": 5,
   "id": "35deab42-776a-4c25-ac50-ae3f41d5a3ee",
   "metadata": {
    "tags": []
   },
   "outputs": [
    {
     "name": "stdout",
     "output_type": "stream",
     "text": [
      "[4 2 1 3 5]\n"
     ]
    }
   ],
   "source": [
    "from numpy import random\n",
    "import numpy as np\n",
    "\n",
    "arr = np.array([1, 2, 3, 4, 5])\n",
    "\n",
    "random.shuffle(arr)\n",
    "\n",
    "print(arr)"
   ]
  },
  {
   "cell_type": "markdown",
   "id": "d49b01b6-1111-455b-b009-f91f6c2fa5bf",
   "metadata": {},
   "source": [
    "> use permutation(): generate a random permutation of elements of following array:"
   ]
  },
  {
   "cell_type": "code",
   "execution_count": null,
   "id": "19ebf93d-4b03-4d5e-af7f-183e45360604",
   "metadata": {
    "tags": []
   },
   "outputs": [],
   "source": [
    "arr = np.array([1, 2, 3, 4, 5])\n",
    "\n",
    "print(random.permutation(arr))"
   ]
  },
  {
   "cell_type": "markdown",
   "id": "880e75b6-fd26-4bcf-abce-7d51455ed4e2",
   "metadata": {},
   "source": [
    "## SEABORN\n",
    "\n",
    "Visualize Distributions With Seaborn\n",
    "\n",
    "Seaborn is a library that uses Matplotlib underneath to plot graphs. It will be used to visualize random distributions.\n",
    "\n",
    "## DISPLOT\n",
    "\n",
    "> Plotting a displot\n",
    ">\n",
    "> Example:\n",
    ">"
   ]
  },
  {
   "cell_type": "code",
   "execution_count": 12,
   "id": "f33125ef-b643-4af8-9d2c-911f3a331a95",
   "metadata": {
    "tags": []
   },
   "outputs": [
    {
     "name": "stderr",
     "output_type": "stream",
     "text": [
      "C:\\Users\\vipga\\AppData\\Local\\Temp\\ipykernel_30528\\174120514.py:4: UserWarning: \n",
      "\n",
      "`distplot` is a deprecated function and will be removed in seaborn v0.14.0.\n",
      "\n",
      "Please adapt your code to use either `displot` (a figure-level function with\n",
      "similar flexibility) or `histplot` (an axes-level function for histograms).\n",
      "\n",
      "For a guide to updating your code to use the new functions, please see\n",
      "https://gist.github.com/mwaskom/de44147ed2974457ad6372750bbe5751\n",
      "\n",
      "  sns.distplot([0, 1, 2, 3, 4, 5])\n"
     ]
    },
    {
     "data": {
      "image/png": "[encoded data removed]",
      "text/plain": [
       "<Figure size 640x480 with 1 Axes>"
      ]
     },
     "metadata": {},
     "output_type": "display_data"
    }
   ],
   "source": [
    "import matplotlib.pyplot as plt\n",
    "import seaborn as sns\n",
    "\n",
    "sns.distplot([0, 1, 2, 3, 4, 5])\n",
    "\n",
    "plt.show()"
   ]
  },
  {
   "cell_type": "markdown",
   "id": "3b1b8207-592c-4bc6-b2d5-99e4cff807c6",
   "metadata": {},
   "source": [
    "## DISTRIBUTION RANDOM\n",
    "\n",
    "1. NORMAL DISTRIBUTION\n",
    "2. BINOMIAL DISTRIBUTION\n",
    "3. POISSON DISTRIBUTION\n",
    "4. UNIFORM DISTRIBUTION\n",
    "5. LOGISTIC DISTRIBUTION\n",
    "6. MULTINOMIAL DISTRIBUTION\n",
    "7. EXPONENTIAL DISTRIBUTION\n",
    "8. CHI SQUARE DISTRIBUTION\n",
    "9. RAYLEIGH DISTRIBUTION\n",
    "10. PARETO DISTRIBUTION\n",
    "11. ZIPF DISTRIBUTION"
   ]
  },
  {
   "cell_type": "code",
   "execution_count": null,
   "id": "3151bbc6-7588-4c44-ae04-e6e892cb20e9",
   "metadata": {},
   "outputs": [],
   "source": []
  }
 ],
 "metadata": {
  "kernelspec": {
   "display_name": "Python 3 (ipykernel)",
   "language": "python",
   "name": "python3"
  },
  "language_info": {
   "codemirror_mode": {
    "name": "ipython",
    "version": 3
   },
   "file_extension": ".py",
   "mimetype": "text/x-python",
   "name": "python",
   "nbconvert_exporter": "python",
   "pygments_lexer": "ipython3",
   "version": "3.11.5"
  }
 },
 "nbformat": 4,
 "nbformat_minor": 5
}
