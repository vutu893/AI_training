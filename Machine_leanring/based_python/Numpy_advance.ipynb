{
 "cells": [
  {
   "cell_type": "markdown",
   "id": "13311fc2-04b6-4986-bc0b-a4198fdba846",
   "metadata": {},
   "source": [
    "# <center>NUMPY ADVANCE</center>"
   ]
  },
  {
   "cell_type": "markdown",
   "id": "3b736a12-efd1-4a03-a48b-9c58662e7a4d",
   "metadata": {},
   "source": [
    "\n",
    "# NUMPY RANDOM\n",
    "\n",
    "## GENERATE RANDOM NUMBER\n",
    "\n",
    "> Use randint() and module random in library numpy\n",
    ">\n",
    "> Example:\n",
    ">\n",
    "> Generate a random integer from 0 to 100:\n",
    ">"
   ]
  },
  {
   "cell_type": "code",
   "execution_count": 4,
   "id": "991ca65b-02bc-4bc2-a924-5b235a866def",
   "metadata": {
    "tags": []
   },
   "outputs": [
    {
     "name": "stdout",
     "output_type": "stream",
     "text": [
      "70\n",
      "0.9572243639925103\n"
     ]
    }
   ],
   "source": [
    "from numpy import random\n",
    "\n",
    "x = random.randint(100)\n",
    "\n",
    "print(x)\n",
    "\n",
    "#The random module's rand() method returns a random float between 0 and 1.\n",
    "\n",
    "y = random.rand()\n",
    "\n",
    "print(y)"
   ]
  },
  {
   "cell_type": "markdown",
   "id": "e56dccea-c601-43dd-baf6-e81afa28afd6",
   "metadata": {},
   "source": [
    "## GENERATE RANDOM ARRAY\n",
    "\n",
    "> Use randint and attribute size\n",
    ">"
   ]
  },
  {
   "cell_type": "code",
   "execution_count": null,
   "id": "07b3258c-3b33-42c5-9e3f-2bc3b5927022",
   "metadata": {
    "tags": []
   },
   "outputs": [],
   "source": [
    "x=random.randint(100, size=(5))\n",
    "\n",
    "print(x)\n",
    "\n",
    "#Or generate array 2-D\n",
    "y = random.randint(100, size=(2, 4,1))\n",
    "\n",
    "print(y)\n",
    "#Or generate array have float\n",
    "z = random.rand(5)\n",
    "t = random.rand(2, 3)\n",
    "\n",
    "print(z)\n",
    "print(t)"
   ]
  },
  {
   "cell_type": "markdown",
   "id": "6723e5fb-e648-43e4-b602-fa54e851a457",
   "metadata": {},
   "source": [
    "## RANDOM NUMBER FROM AN ARRAY\n",
    " \n",
    "> Use choie()\n",
    "> "
   ]
  },
  {
   "cell_type": "code",
   "execution_count": 11,
   "id": "ff9a905d-e8df-461d-aaf0-9beaaa894682",
   "metadata": {
    "tags": []
   },
   "outputs": [
    {
     "name": "stdout",
     "output_type": "stream",
     "text": [
      "7\n",
      "[[9 3 3 9 5]\n",
      " [7 3 7 5 9]\n",
      " [5 9 3 7 7]]\n"
     ]
    }
   ],
   "source": [
    "x = random.choice([3, 5, 7, 9])\n",
    "\n",
    "print(x)\n",
    "\n",
    "#or add parameter size => generate new array from ele in an array\n",
    "y = random.choice([3, 5, 7, 9], size=(3, 5))\n",
    "\n",
    "print(y)"
   ]
  },
  {
   "cell_type": "code",
   "execution_count": null,
   "id": "250a762f-0213-441f-8ae4-910ccf83c4d0",
   "metadata": {},
   "outputs": [],
   "source": []
  }
 ],
 "metadata": {
  "kernelspec": {
   "display_name": "Python 3 (ipykernel)",
   "language": "python",
   "name": "python3"
  },
  "language_info": {
   "codemirror_mode": {
    "name": "ipython",
    "version": 3
   },
   "file_extension": ".py",
   "mimetype": "text/x-python",
   "name": "python",
   "nbconvert_exporter": "python",
   "pygments_lexer": "ipython3",
   "version": "3.11.5"
  }
 },
 "nbformat": 4,
 "nbformat_minor": 5
}
