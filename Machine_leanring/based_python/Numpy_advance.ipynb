{
 "cells": [
  {
   "cell_type": "markdown",
   "id": "13311fc2-04b6-4986-bc0b-a4198fdba846",
   "metadata": {},
   "source": [
    "# <center>NUMPY ADVANCE</center>"
   ]
  },
  {
   "cell_type": "code",
   "execution_count": null,
   "id": "29098112-67d5-43a5-a4fd-f248f9371241",
   "metadata": {},
   "outputs": [],
   "source": []
  }
 ],
 "metadata": {
  "kernelspec": {
   "display_name": "Python 3 (ipykernel)",
   "language": "python",
   "name": "python3"
  },
  "language_info": {
   "codemirror_mode": {
    "name": "ipython",
    "version": 3
   },
   "file_extension": ".py",
   "mimetype": "text/x-python",
   "name": "python",
   "nbconvert_exporter": "python",
   "pygments_lexer": "ipython3",
   "version": "3.11.5"
  }
 },
 "nbformat": 4,
 "nbformat_minor": 5
}
